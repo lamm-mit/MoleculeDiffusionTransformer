{
 "cells": [
  {
   "cell_type": "markdown",
   "id": "e7ad69c9-bf27-4594-982a-0a2a42749808",
   "metadata": {},
   "source": [
    "# MoleculeDiffusionTransformer: Forward transformer model (predict molecular properties from SMILES) \n",
    "\n",
    "Reference:\n",
    "\n",
    "#### Generative Discovery of Novel Chemical Designs using Diffusion Modeling and Transformer Architectures with Application to Deep Eutectic Solvents \n",
    "\n",
    "Rachel K. Luu1,2, Marcin Wysokowski1 , Markus J. Buehler1,3*\n",
    "\n",
    "1 Laboratory for Atomistic and Molecular Mechanics (LAMM), Massachusetts Institute of Technology, 77 Massachusetts Ave., Cambridge, MA 02139, USA\n",
    "2 Department of Materials Science and Engineering, Massachusetts Institute of Technology, 77 Massachusetts Ave., Cambridge, MA 02139, USA\n",
    "3 Center for Computational Science and Engineering, Schwarzman College of Computing, Massachusetts Institute of Technology, 77 Massachusetts Ave., Cambridge, MA 02139, USA\n",
    "\n",
    "mbuehler@MIT.EDU "
   ]
  },
  {
   "cell_type": "code",
   "execution_count": 1,
   "id": "2a6191d6-930d-4a20-94a0-87f97b5a5a7b",
   "metadata": {
    "tags": []
   },
   "outputs": [],
   "source": [
    "import os,sys\n",
    "import math\n",
    "import matplotlib.pyplot as plt \n",
    "#os.environ[\"CUDA_VISIBLE_DEVICES\"] = \"-1\"\n",
    "os.environ[\"CUDA_VISIBLE_DEVICES\"] = \"0\"\n",
    "def exists(val):\n",
    "    return val is not None\n",
    "\n",
    "import torch\n",
    "\n",
    "from sklearn.model_selection import train_test_split\n",
    "#from tqdm import tqdm, trange\n",
    "from tqdm.notebook import trange, tqdm\n",
    "\n",
    "import torchvision\n",
    " \n",
    "import matplotlib.pyplot as plt\n",
    "import numpy as np\n",
    " \n",
    "from torch import nn\n",
    "from torch import optim, Tensor\n",
    "import torch.nn.functional as F\n",
    "from torchvision import datasets, transforms, models\n",
    "import numpy as np\n",
    "import torch.optim as optim\n",
    "from torch.optim.lr_scheduler import ExponentialLR, StepLR\n",
    "from functools import partial, wraps"
   ]
  },
  {
   "cell_type": "code",
   "execution_count": 2,
   "id": "f7cb6949-e793-4614-a24c-f36a0194a353",
   "metadata": {
    "tags": []
   },
   "outputs": [],
   "source": [
    "from einops import rearrange, repeat"
   ]
  },
  {
   "cell_type": "code",
   "execution_count": 3,
   "id": "475ea20b-5326-41f6-9f3c-e11e863bf67f",
   "metadata": {
    "tags": []
   },
   "outputs": [],
   "source": [
    "device = torch.device(\"cuda\" if torch.cuda.is_available() \n",
    "                                  else \"cpu\")"
   ]
  },
  {
   "cell_type": "code",
   "execution_count": 4,
   "id": "69514f21-e80f-44d4-aade-05e7c6c63621",
   "metadata": {
    "tags": []
   },
   "outputs": [],
   "source": [
    "import pandas as pd\n",
    "\n",
    "from torch.utils.data import DataLoader,Dataset\n",
    "import pandas as pd\n",
    "import seaborn as sns\n",
    "import time"
   ]
  },
  {
   "cell_type": "code",
   "execution_count": 5,
   "id": "423f3887-7c50-4a95-b0ac-6ff6e3d4d5c6",
   "metadata": {
    "tags": []
   },
   "outputs": [
    {
     "name": "stderr",
     "output_type": "stream",
     "text": [
      "2023-04-08 20:14:11.256087: I tensorflow/core/platform/cpu_feature_guard.cc:193] This TensorFlow binary is optimized with oneAPI Deep Neural Network Library (oneDNN) to use the following CPU instructions in performance-critical operations:  AVX2 AVX512F AVX512_VNNI FMA\n",
      "To enable them in other operations, rebuild TensorFlow with the appropriate compiler flags.\n",
      "2023-04-08 20:14:11.401516: I tensorflow/core/util/port.cc:104] oneDNN custom operations are on. You may see slightly different numerical results due to floating-point round-off errors from different computation orders. To turn them off, set the environment variable `TF_ENABLE_ONEDNN_OPTS=0`.\n"
     ]
    }
   ],
   "source": [
    "from MoleculeDiffusion import draw_and_save, draw_and_save_set"
   ]
  },
  {
   "cell_type": "code",
   "execution_count": 6,
   "id": "c8a2ef7c-e0b4-404b-acc1-d7ad4cf46c86",
   "metadata": {
    "tags": []
   },
   "outputs": [
    {
     "name": "stdout",
     "output_type": "stream",
     "text": [
      "Torch version: 2.0.0+cu117\n"
     ]
    }
   ],
   "source": [
    "print(\"Torch version:\", torch.__version__) "
   ]
  },
  {
   "cell_type": "code",
   "execution_count": 7,
   "id": "0fe243fd-aa64-4eb8-b24f-921587c38a82",
   "metadata": {},
   "outputs": [],
   "source": [
    "#QM9: https://github.com/wengong-jin/chemprop"
   ]
  },
  {
   "cell_type": "code",
   "execution_count": 8,
   "id": "ef0479bb-900f-4f34-b641-536e0ea1b9d8",
   "metadata": {},
   "outputs": [
    {
     "data": {
      "text/html": [
       "<div>\n",
       "<style scoped>\n",
       "    .dataframe tbody tr th:only-of-type {\n",
       "        vertical-align: middle;\n",
       "    }\n",
       "\n",
       "    .dataframe tbody tr th {\n",
       "        vertical-align: top;\n",
       "    }\n",
       "\n",
       "    .dataframe thead th {\n",
       "        text-align: right;\n",
       "    }\n",
       "</style>\n",
       "<table border=\"1\" class=\"dataframe\">\n",
       "  <thead>\n",
       "    <tr style=\"text-align: right;\">\n",
       "      <th></th>\n",
       "      <th>mu</th>\n",
       "      <th>alpha</th>\n",
       "      <th>homo</th>\n",
       "      <th>lumo</th>\n",
       "      <th>gap</th>\n",
       "      <th>r2</th>\n",
       "      <th>zpve</th>\n",
       "      <th>cv</th>\n",
       "      <th>u0</th>\n",
       "      <th>u298</th>\n",
       "      <th>h298</th>\n",
       "      <th>g298</th>\n",
       "    </tr>\n",
       "  </thead>\n",
       "  <tbody>\n",
       "    <tr>\n",
       "      <th>count</th>\n",
       "      <td>133885.000000</td>\n",
       "      <td>133885.000000</td>\n",
       "      <td>133885.000000</td>\n",
       "      <td>133885.000000</td>\n",
       "      <td>133885.000000</td>\n",
       "      <td>133885.000000</td>\n",
       "      <td>133885.000000</td>\n",
       "      <td>133885.000000</td>\n",
       "      <td>133885.000000</td>\n",
       "      <td>133885.000000</td>\n",
       "      <td>133885.000000</td>\n",
       "      <td>133885.000000</td>\n",
       "    </tr>\n",
       "    <tr>\n",
       "      <th>mean</th>\n",
       "      <td>2.706037</td>\n",
       "      <td>75.191296</td>\n",
       "      <td>-0.239977</td>\n",
       "      <td>0.011124</td>\n",
       "      <td>0.251100</td>\n",
       "      <td>1189.527450</td>\n",
       "      <td>0.148524</td>\n",
       "      <td>31.600676</td>\n",
       "      <td>-411.543985</td>\n",
       "      <td>-411.535513</td>\n",
       "      <td>-411.534569</td>\n",
       "      <td>-411.577397</td>\n",
       "    </tr>\n",
       "    <tr>\n",
       "      <th>std</th>\n",
       "      <td>1.530394</td>\n",
       "      <td>8.187793</td>\n",
       "      <td>0.022131</td>\n",
       "      <td>0.046936</td>\n",
       "      <td>0.047519</td>\n",
       "      <td>279.757172</td>\n",
       "      <td>0.033274</td>\n",
       "      <td>4.062471</td>\n",
       "      <td>40.060230</td>\n",
       "      <td>40.060012</td>\n",
       "      <td>40.060012</td>\n",
       "      <td>40.060741</td>\n",
       "    </tr>\n",
       "    <tr>\n",
       "      <th>min</th>\n",
       "      <td>0.000000</td>\n",
       "      <td>6.310000</td>\n",
       "      <td>-0.428600</td>\n",
       "      <td>-0.175000</td>\n",
       "      <td>0.024600</td>\n",
       "      <td>19.000200</td>\n",
       "      <td>0.015951</td>\n",
       "      <td>6.002000</td>\n",
       "      <td>-714.568061</td>\n",
       "      <td>-714.560153</td>\n",
       "      <td>-714.559209</td>\n",
       "      <td>-714.602138</td>\n",
       "    </tr>\n",
       "    <tr>\n",
       "      <th>25%</th>\n",
       "      <td>1.588700</td>\n",
       "      <td>70.380000</td>\n",
       "      <td>-0.252500</td>\n",
       "      <td>-0.023800</td>\n",
       "      <td>0.216300</td>\n",
       "      <td>1018.322600</td>\n",
       "      <td>0.125289</td>\n",
       "      <td>28.942000</td>\n",
       "      <td>-437.913936</td>\n",
       "      <td>-437.905942</td>\n",
       "      <td>-437.904997</td>\n",
       "      <td>-437.947682</td>\n",
       "    </tr>\n",
       "    <tr>\n",
       "      <th>50%</th>\n",
       "      <td>2.500000</td>\n",
       "      <td>75.500000</td>\n",
       "      <td>-0.241000</td>\n",
       "      <td>0.012000</td>\n",
       "      <td>0.249400</td>\n",
       "      <td>1147.585800</td>\n",
       "      <td>0.148329</td>\n",
       "      <td>31.555000</td>\n",
       "      <td>-417.864758</td>\n",
       "      <td>-417.857351</td>\n",
       "      <td>-417.856407</td>\n",
       "      <td>-417.895731</td>\n",
       "    </tr>\n",
       "    <tr>\n",
       "      <th>75%</th>\n",
       "      <td>3.636100</td>\n",
       "      <td>80.520000</td>\n",
       "      <td>-0.228700</td>\n",
       "      <td>0.049200</td>\n",
       "      <td>0.288200</td>\n",
       "      <td>1308.816600</td>\n",
       "      <td>0.171150</td>\n",
       "      <td>34.276000</td>\n",
       "      <td>-387.049166</td>\n",
       "      <td>-387.039746</td>\n",
       "      <td>-387.038802</td>\n",
       "      <td>-387.083279</td>\n",
       "    </tr>\n",
       "    <tr>\n",
       "      <th>max</th>\n",
       "      <td>29.556400</td>\n",
       "      <td>196.620000</td>\n",
       "      <td>-0.101700</td>\n",
       "      <td>0.193500</td>\n",
       "      <td>0.622100</td>\n",
       "      <td>3374.753200</td>\n",
       "      <td>0.273944</td>\n",
       "      <td>46.969000</td>\n",
       "      <td>-40.478930</td>\n",
       "      <td>-40.476062</td>\n",
       "      <td>-40.475117</td>\n",
       "      <td>-40.498597</td>\n",
       "    </tr>\n",
       "  </tbody>\n",
       "</table>\n",
       "</div>"
      ],
      "text/plain": [
       "                  mu          alpha           homo           lumo  \\\n",
       "count  133885.000000  133885.000000  133885.000000  133885.000000   \n",
       "mean        2.706037      75.191296      -0.239977       0.011124   \n",
       "std         1.530394       8.187793       0.022131       0.046936   \n",
       "min         0.000000       6.310000      -0.428600      -0.175000   \n",
       "25%         1.588700      70.380000      -0.252500      -0.023800   \n",
       "50%         2.500000      75.500000      -0.241000       0.012000   \n",
       "75%         3.636100      80.520000      -0.228700       0.049200   \n",
       "max        29.556400     196.620000      -0.101700       0.193500   \n",
       "\n",
       "                 gap             r2           zpve             cv  \\\n",
       "count  133885.000000  133885.000000  133885.000000  133885.000000   \n",
       "mean        0.251100    1189.527450       0.148524      31.600676   \n",
       "std         0.047519     279.757172       0.033274       4.062471   \n",
       "min         0.024600      19.000200       0.015951       6.002000   \n",
       "25%         0.216300    1018.322600       0.125289      28.942000   \n",
       "50%         0.249400    1147.585800       0.148329      31.555000   \n",
       "75%         0.288200    1308.816600       0.171150      34.276000   \n",
       "max         0.622100    3374.753200       0.273944      46.969000   \n",
       "\n",
       "                  u0           u298           h298           g298  \n",
       "count  133885.000000  133885.000000  133885.000000  133885.000000  \n",
       "mean     -411.543985    -411.535513    -411.534569    -411.577397  \n",
       "std        40.060230      40.060012      40.060012      40.060741  \n",
       "min      -714.568061    -714.560153    -714.559209    -714.602138  \n",
       "25%      -437.913936    -437.905942    -437.904997    -437.947682  \n",
       "50%      -417.864758    -417.857351    -417.856407    -417.895731  \n",
       "75%      -387.049166    -387.039746    -387.038802    -387.083279  \n",
       "max       -40.478930     -40.476062     -40.475117     -40.498597  "
      ]
     },
     "execution_count": 8,
     "metadata": {},
     "output_type": "execute_result"
    }
   ],
   "source": [
    "df=pd.read_csv(\"qm9_.csv\")\n",
    " \n",
    "df.describe()"
   ]
  },
  {
   "cell_type": "code",
   "execution_count": 9,
   "id": "35661a6f-51cd-4a42-8b8a-6f99ab7658db",
   "metadata": {},
   "outputs": [
    {
     "data": {
      "text/plain": [
       "0                           C\n",
       "1                           N\n",
       "2                           O\n",
       "3                         C#C\n",
       "4                         C#N\n",
       "                 ...         \n",
       "133880    C1C2C3C4C5OC14C5N23\n",
       "133881    C1N2C3C2C2C4OC12C34\n",
       "133882    C1N2C3C4C5C2C13CN45\n",
       "133883    C1N2C3C4C5CC13C2C45\n",
       "133884    C1N2C3C4C5OC13C2C45\n",
       "Name: smiles, Length: 133885, dtype: object"
      ]
     },
     "execution_count": 9,
     "metadata": {},
     "output_type": "execute_result"
    }
   ],
   "source": [
    "df['smiles']"
   ]
  },
  {
   "cell_type": "code",
   "execution_count": 10,
   "id": "e1820475-ef1b-4b8e-954f-62196ca1e845",
   "metadata": {
    "tags": []
   },
   "outputs": [
    {
     "data": {
      "text/plain": [
       "0         13.21\n",
       "1          9.46\n",
       "2          6.31\n",
       "3         16.28\n",
       "4         12.99\n",
       "          ...  \n",
       "133880    69.37\n",
       "133881    69.52\n",
       "133882    73.60\n",
       "133883    77.40\n",
       "133884    69.48\n",
       "Name: alpha, Length: 133885, dtype: float64"
      ]
     },
     "execution_count": 10,
     "metadata": {},
     "output_type": "execute_result"
    }
   ],
   "source": [
    "df['alpha']\n"
   ]
  },
  {
   "cell_type": "code",
   "execution_count": 11,
   "id": "67e9880a-09fb-455c-bb6f-426a775875ab",
   "metadata": {
    "tags": []
   },
   "outputs": [
    {
     "name": "stdout",
     "output_type": "stream",
     "text": [
      "smiles\n",
      "mu\n",
      "alpha\n",
      "homo\n",
      "lumo\n",
      "gap\n",
      "r2\n",
      "zpve\n",
      "cv\n",
      "u0\n",
      "u298\n",
      "h298\n",
      "g298\n"
     ]
    }
   ],
   "source": [
    "for col in df.columns:\n",
    "    print(col)"
   ]
  },
  {
   "cell_type": "code",
   "execution_count": 12,
   "id": "bac86890-f9f5-4cc4-997d-e5700baa5cd3",
   "metadata": {
    "tags": []
   },
   "outputs": [
    {
     "data": {
      "text/plain": [
       "((12,), (133885, 13))"
      ]
     },
     "execution_count": 12,
     "metadata": {},
     "output_type": "execute_result"
    }
   ],
   "source": [
    "df.loc[0,:] [1:].shape, df.iloc[:,:].shape"
   ]
  },
  {
   "cell_type": "code",
   "execution_count": 13,
   "id": "dd7a6903-e99f-4f2e-996d-b590867b8ba8",
   "metadata": {
    "tags": []
   },
   "outputs": [
    {
     "data": {
      "text/plain": [
       "(133885, 12)"
      ]
     },
     "execution_count": 13,
     "metadata": {},
     "output_type": "execute_result"
    }
   ],
   "source": [
    "y_data=df.iloc [:, 1: ] .to_numpy()\n",
    "y_data.shape"
   ]
  },
  {
   "cell_type": "code",
   "execution_count": 14,
   "id": "03bb4c5a-85dc-460b-9bb1-7863468d4ca7",
   "metadata": {},
   "outputs": [],
   "source": [
    "# labels for y"
   ]
  },
  {
   "cell_type": "code",
   "execution_count": 15,
   "id": "ac23a877-4f7b-4b84-84b0-afae5458903b",
   "metadata": {
    "tags": []
   },
   "outputs": [
    {
     "data": {
      "text/plain": [
       "Index(['mu', 'alpha', 'homo', 'lumo', 'gap', 'r2', 'zpve', 'cv', 'u0', 'u298',\n",
       "       'h298', 'g298'],\n",
       "      dtype='object')"
      ]
     },
     "execution_count": 15,
     "metadata": {},
     "output_type": "execute_result"
    }
   ],
   "source": [
    "col_names=df.columns[1:]\n",
    "col_names "
   ]
  },
  {
   "cell_type": "code",
   "execution_count": 16,
   "id": "a94c16f4-8db4-4ae6-baf9-f000f3609099",
   "metadata": {
    "tags": []
   },
   "outputs": [
    {
     "data": {
      "text/plain": [
       "'alpha'"
      ]
     },
     "execution_count": 16,
     "metadata": {},
     "output_type": "execute_result"
    }
   ],
   "source": [
    "col_names[1]"
   ]
  },
  {
   "cell_type": "markdown",
   "id": "404aaab2-f334-4b9b-b565-d186d28f3c4a",
   "metadata": {},
   "source": [
    "### Smiles to Image"
   ]
  },
  {
   "cell_type": "code",
   "execution_count": 17,
   "id": "374af80c-15e8-4820-84a8-ce6698727947",
   "metadata": {},
   "outputs": [],
   "source": [
    "#!pip install rdkit"
   ]
  },
  {
   "cell_type": "code",
   "execution_count": 18,
   "id": "abc9316c-1e9a-489f-bb78-bbbbfb75cafe",
   "metadata": {
    "tags": []
   },
   "outputs": [],
   "source": [
    "import rdkit\n",
    "from rdkit import Chem\n",
    "from rdkit.Chem import Draw\n",
    "import matplotlib.pyplot as plt\n",
    "from rdkit.Chem.Draw import IPythonConsole\n",
    "from rdkit.Chem import rdFMCS\n",
    "from rdkit.Chem.Draw import rdDepictor\n",
    "from PIL import Image\n",
    "\n",
    "\n",
    "\n",
    "rdDepictor.SetPreferCoordGen(True)\n",
    "IPythonConsole.drawOptions.minFontSize=20\n"
   ]
  },
  {
   "cell_type": "code",
   "execution_count": 19,
   "id": "fe866fab-c346-4b4e-afa3-0defc89aa488",
   "metadata": {
    "tags": []
   },
   "outputs": [
    {
     "data": {
      "image/png": "[encoded data removed]",
      "text/plain": [
       "<Figure size 640x480 with 1 Axes>"
      ]
     },
     "metadata": {},
     "output_type": "display_data"
    }
   ],
   "source": [
    "draw_and_save_set (smiles = ['CC(=CC(C)(C)CCCCCCCC(=O)O)C1CCC2C(=CC=C3CC(O)CC(O)C3)CCCC21C',\n",
    "                                 'CCCC(C)'],\n",
    "                   fname='out.png',\n",
    "                    plot_title=None,\n",
    "                  figsize=1,\n",
    "                       mols_per_row=2,\n",
    "                )"
   ]
  },
  {
   "cell_type": "code",
   "execution_count": 20,
   "id": "0f83dbe7-819c-4cce-ad1b-8297141fc7c2",
   "metadata": {
    "tags": []
   },
   "outputs": [
    {
     "data": {
      "image/png": "[encoded data removed]",
      "text/plain": [
       "<IPython.core.display.Image object>"
      ]
     },
     "execution_count": 20,
     "metadata": {},
     "output_type": "execute_result"
    }
   ],
   "source": [
    "molecule1 = Chem.MolFromSmiles('CC=C')\n",
    "molecule2 = Chem.MolFromSmiles('CNC=C')\n",
    "Draw.MolsToGridImage((molecule1,molecule2), subImgSize=(250,250))"
   ]
  },
  {
   "cell_type": "code",
   "execution_count": 21,
   "id": "b811d811-f98c-49be-820a-d95c424b9125",
   "metadata": {
    "tags": []
   },
   "outputs": [
    {
     "data": {
      "image/png": "[encoded data removed]",
      "text/plain": [
       "<Figure size 640x480 with 1 Axes>"
      ]
     },
     "metadata": {},
     "output_type": "display_data"
    },
    {
     "data": {
      "text/plain": [
       "True"
      ]
     },
     "execution_count": 21,
     "metadata": {},
     "output_type": "execute_result"
    }
   ],
   "source": [
    "draw_and_save (smi = 'CC=C', GTsmile = 'CNC=C', fname='out.png', add_Hs=True)"
   ]
  },
  {
   "cell_type": "code",
   "execution_count": 22,
   "id": "d7d073cc-02bf-497a-bef8-448ccf81f60d",
   "metadata": {
    "tags": []
   },
   "outputs": [
    {
     "data": {
      "image/png": "[encoded data removed]",
      "text/plain": [
       "<IPython.core.display.Image object>"
      ]
     },
     "execution_count": 22,
     "metadata": {},
     "output_type": "execute_result"
    }
   ],
   "source": [
    "Draw.MolsToGridImage((molecule1,molecule2), subImgSize=(250,250))"
   ]
  },
  {
   "cell_type": "code",
   "execution_count": 23,
   "id": "9a2cb3a1-488a-402b-8748-5352683dcf86",
   "metadata": {
    "tags": []
   },
   "outputs": [
    {
     "data": {
      "image/png": "[encoded data removed]",
      "text/plain": [
       "<Figure size 100x100 with 1 Axes>"
      ]
     },
     "metadata": {},
     "output_type": "display_data"
    },
    {
     "data": {
      "image/png": "[encoded data removed]",
      "text/plain": [
       "<Figure size 100x100 with 1 Axes>"
      ]
     },
     "metadata": {},
     "output_type": "display_data"
    },
    {
     "data": {
      "text/plain": [
       "True"
      ]
     },
     "execution_count": 23,
     "metadata": {},
     "output_type": "execute_result"
    }
   ],
   "source": [
    "draw_and_save (smi = 'CC(=CC(C)(C)CCCCCCCC(=O)O)C1CCC2C(=CC=C3CC(O)CC(O)C3)CCCC21C', fname='out.png')\n",
    "draw_and_save (smi = 'CC=C', fname='out.png', add_Hs=True)\n",
    "\n",
    "\n"
   ]
  },
  {
   "cell_type": "markdown",
   "id": "5160b737-e75a-4ce5-b62a-e5e42e60f961",
   "metadata": {},
   "source": [
    "### Normalize properties"
   ]
  },
  {
   "cell_type": "code",
   "execution_count": 24,
   "id": "7e219a9c-0dce-44e5-872c-6be409c8575d",
   "metadata": {
    "tags": []
   },
   "outputs": [
    {
     "data": {
      "text/plain": [
       "(133885, 12)"
      ]
     },
     "execution_count": 24,
     "metadata": {},
     "output_type": "execute_result"
    }
   ],
   "source": [
    "from sklearn.preprocessing import MinMaxScaler\n",
    "\n",
    "scaler = MinMaxScaler(feature_range=(-1, 1)) \n",
    "y_data = scaler.fit_transform(y_data, )  #array-like of shape (n_samples, n_features)\n",
    "y_data.shape\n"
   ]
  },
  {
   "cell_type": "code",
   "execution_count": 25,
   "id": "b4fd7082-83cb-4dcc-99b5-d10a28fea63f",
   "metadata": {
    "tags": []
   },
   "outputs": [
    {
     "data": {
      "text/plain": [
       "12"
      ]
     },
     "execution_count": 25,
     "metadata": {},
     "output_type": "execute_result"
    }
   ],
   "source": [
    "context_embedding_max_length=y_data.shape[1]\n",
    "context_embedding_max_length"
   ]
  },
  {
   "cell_type": "code",
   "execution_count": 26,
   "id": "c05a756c-c23b-4431-8ef6-d8564c2bac8b",
   "metadata": {
    "tags": []
   },
   "outputs": [
    {
     "data": {
      "text/html": [
       "<style>#sk-container-id-1 {color: black;background-color: white;}#sk-container-id-1 pre{padding: 0;}#sk-container-id-1 div.sk-toggleable {background-color: white;}#sk-container-id-1 label.sk-toggleable__label {cursor: pointer;display: block;width: 100%;margin-bottom: 0;padding: 0.3em;box-sizing: border-box;text-align: center;}#sk-container-id-1 label.sk-toggleable__label-arrow:before {content: \"▸\";float: left;margin-right: 0.25em;color: #696969;}#sk-container-id-1 label.sk-toggleable__label-arrow:hover:before {color: black;}#sk-container-id-1 div.sk-estimator:hover label.sk-toggleable__label-arrow:before {color: black;}#sk-container-id-1 div.sk-toggleable__content {max-height: 0;max-width: 0;overflow: hidden;text-align: left;background-color: #f0f8ff;}#sk-container-id-1 div.sk-toggleable__content pre {margin: 0.2em;color: black;border-radius: 0.25em;background-color: #f0f8ff;}#sk-container-id-1 input.sk-toggleable__control:checked~div.sk-toggleable__content {max-height: 200px;max-width: 100%;overflow: auto;}#sk-container-id-1 input.sk-toggleable__control:checked~label.sk-toggleable__label-arrow:before {content: \"▾\";}#sk-container-id-1 div.sk-estimator input.sk-toggleable__control:checked~label.sk-toggleable__label {background-color: #d4ebff;}#sk-container-id-1 div.sk-label input.sk-toggleable__control:checked~label.sk-toggleable__label {background-color: #d4ebff;}#sk-container-id-1 input.sk-hidden--visually {border: 0;clip: rect(1px 1px 1px 1px);clip: rect(1px, 1px, 1px, 1px);height: 1px;margin: -1px;overflow: hidden;padding: 0;position: absolute;width: 1px;}#sk-container-id-1 div.sk-estimator {font-family: monospace;background-color: #f0f8ff;border: 1px dotted black;border-radius: 0.25em;box-sizing: border-box;margin-bottom: 0.5em;}#sk-container-id-1 div.sk-estimator:hover {background-color: #d4ebff;}#sk-container-id-1 div.sk-parallel-item::after {content: \"\";width: 100%;border-bottom: 1px solid gray;flex-grow: 1;}#sk-container-id-1 div.sk-label:hover label.sk-toggleable__label {background-color: #d4ebff;}#sk-container-id-1 div.sk-serial::before {content: \"\";position: absolute;border-left: 1px solid gray;box-sizing: border-box;top: 0;bottom: 0;left: 50%;z-index: 0;}#sk-container-id-1 div.sk-serial {display: flex;flex-direction: column;align-items: center;background-color: white;padding-right: 0.2em;padding-left: 0.2em;position: relative;}#sk-container-id-1 div.sk-item {position: relative;z-index: 1;}#sk-container-id-1 div.sk-parallel {display: flex;align-items: stretch;justify-content: center;background-color: white;position: relative;}#sk-container-id-1 div.sk-item::before, #sk-container-id-1 div.sk-parallel-item::before {content: \"\";position: absolute;border-left: 1px solid gray;box-sizing: border-box;top: 0;bottom: 0;left: 50%;z-index: -1;}#sk-container-id-1 div.sk-parallel-item {display: flex;flex-direction: column;z-index: 1;position: relative;background-color: white;}#sk-container-id-1 div.sk-parallel-item:first-child::after {align-self: flex-end;width: 50%;}#sk-container-id-1 div.sk-parallel-item:last-child::after {align-self: flex-start;width: 50%;}#sk-container-id-1 div.sk-parallel-item:only-child::after {width: 0;}#sk-container-id-1 div.sk-dashed-wrapped {border: 1px dashed gray;margin: 0 0.4em 0.5em 0.4em;box-sizing: border-box;padding-bottom: 0.4em;background-color: white;}#sk-container-id-1 div.sk-label label {font-family: monospace;font-weight: bold;display: inline-block;line-height: 1.2em;}#sk-container-id-1 div.sk-label-container {text-align: center;}#sk-container-id-1 div.sk-container {/* jupyter's `normalize.less` sets `[hidden] { display: none; }` but bootstrap.min.css set `[hidden] { display: none !important; }` so we also need the `!important` here to be able to override the default hidden behavior on the sphinx rendered scikit-learn.org. See: https://github.com/scikit-learn/scikit-learn/issues/21755 */display: inline-block !important;position: relative;}#sk-container-id-1 div.sk-text-repr-fallback {display: none;}</style><div id=\"sk-container-id-1\" class=\"sk-top-container\"><div class=\"sk-text-repr-fallback\"><pre>MinMaxScaler(feature_range=(-1, 1))</pre><b>In a Jupyter environment, please rerun this cell to show the HTML representation or trust the notebook. <br />On GitHub, the HTML representation is unable to render, please try loading this page with nbviewer.org.</b></div><div class=\"sk-container\" hidden><div class=\"sk-item\"><div class=\"sk-estimator sk-toggleable\"><input class=\"sk-toggleable__control sk-hidden--visually\" id=\"sk-estimator-id-1\" type=\"checkbox\" checked><label for=\"sk-estimator-id-1\" class=\"sk-toggleable__label sk-toggleable__label-arrow\">MinMaxScaler</label><div class=\"sk-toggleable__content\"><pre>MinMaxScaler(feature_range=(-1, 1))</pre></div></div></div></div></div>"
      ],
      "text/plain": [
       "MinMaxScaler(feature_range=(-1, 1))"
      ]
     },
     "execution_count": 26,
     "metadata": {},
     "output_type": "execute_result"
    }
   ],
   "source": [
    "scaler"
   ]
  },
  {
   "cell_type": "code",
   "execution_count": 27,
   "id": "1b388f98-f035-4fb4-a6c5-36aff8f81a2c",
   "metadata": {
    "tags": []
   },
   "outputs": [
    {
     "data": {
      "image/png": "[encoded data removed]",
      "text/plain": [
       "<Figure size 640x480 with 1 Axes>"
      ]
     },
     "metadata": {},
     "output_type": "display_data"
    },
    {
     "data": {
      "image/png": "[encoded data removed]",
      "text/plain": [
       "<Figure size 640x480 with 1 Axes>"
      ]
     },
     "metadata": {},
     "output_type": "display_data"
    }
   ],
   "source": [
    "plt.hist (y_data[:,1])\n",
    "plt.show()\n",
    "plt.hist (y_data[:,6])\n",
    "plt.show()"
   ]
  },
  {
   "cell_type": "code",
   "execution_count": 28,
   "id": "e8a13a4d-45c6-42ab-a636-863f9d03604f",
   "metadata": {
    "tags": []
   },
   "outputs": [],
   "source": [
    "X_data_temp= df['smiles']\n",
    "start_char='@'\n",
    "end_char='$'\n",
    "\n",
    "X_data=[]\n",
    "for i in range (len (X_data_temp)):\n",
    "    X_data.append (start_char+X_data_temp[i]+end_char)\n"
   ]
  },
  {
   "cell_type": "markdown",
   "id": "bce110e5-f49c-4fa8-be69-998c5f8b950d",
   "metadata": {},
   "source": [
    "### Dataset loader "
   ]
  },
  {
   "cell_type": "code",
   "execution_count": 29,
   "id": "dd6476fe-9202-4f70-9622-20ed44b6e7e9",
   "metadata": {
    "tags": []
   },
   "outputs": [],
   "source": [
    "\n",
    "class RegressionDataset(Dataset):\n",
    "    \n",
    "    def __init__(self, X_data, y_data):\n",
    "        self.X_data = X_data\n",
    "        self.y_data = y_data\n",
    "       \n",
    "    def __getitem__(self, index):\n",
    "        \n",
    "        return self.X_data[index], self.y_data[index]\n",
    "        \n",
    "    def __len__ (self):\n",
    "        return len(self.X_data)\n"
   ]
  },
  {
   "cell_type": "code",
   "execution_count": 30,
   "id": "b9f0b698-2838-416f-8606-a2eed691d70e",
   "metadata": {
    "tags": []
   },
   "outputs": [],
   "source": [
    "def pad_sequence_end (output_xyz, max_length_l):         #pad\n",
    "    output=torch.zeros((output_xyz.shape[0] , max_length_l,  output_xyz.shape[2])).to(device)\n",
    "    output[:,:output_xyz.shape[-2],:]=output_xyz  \n",
    "    return output.to(device)\n"
   ]
  },
  {
   "cell_type": "code",
   "execution_count": 31,
   "id": "6f1bde27-459b-417c-b0a8-ab3f661451f1",
   "metadata": {
    "tags": []
   },
   "outputs": [],
   "source": [
    "def get_data_loaders (X_scaled,  y_data_scaled,  split=0.1, batch_size_=16):\n",
    "\n",
    "    X_train, X_test, y_train, y_test,     = train_test_split(torch.Tensor (X_scaled),    torch.Tensor (y_data_scaled) ,\n",
    "                                                             test_size=split,random_state=235)\n",
    "\n",
    "    print (f\"Shapes= {X_scaled.shape}, {y_data_scaled.shape}\")\n",
    "     \n",
    "    print(X_train.shape)\n",
    "    print(y_train.shape)\n",
    "    print(X_test.shape)\n",
    "    print(y_test.shape)\n",
    "    train_dataset = RegressionDataset(X_train, y_train,  ) #/ynormfac)\n",
    "\n",
    "    test_dataset = RegressionDataset(X_test,y_test, )\n",
    "    \n",
    "    train_loader = DataLoader(dataset=train_dataset, batch_size=batch_size_, shuffle=True)\n",
    "    train_loader_noshuffle = DataLoader(dataset=train_dataset, batch_size=batch_size_, shuffle=False)\n",
    "    test_loader = DataLoader(dataset=test_dataset, batch_size=batch_size_)\n",
    "\n",
    "    return train_loader,train_loader_noshuffle, test_loader"
   ]
  },
  {
   "cell_type": "code",
   "execution_count": 32,
   "id": "5afa0202-ae9c-4afb-8017-0b7b39695eb0",
   "metadata": {
    "tags": []
   },
   "outputs": [
    {
     "name": "stdout",
     "output_type": "stream",
     "text": [
      "Maximum length string is :  @c1(=O)[nH]c(=O)[nH]c(=O)[nH]1$ length= 31 chosen length= 64\n"
     ]
    }
   ],
   "source": [
    "res = max(X_data[:], key = len)\n",
    "max_length_data=len (res)\n",
    "max_length=max (max_length_data, 64)\n",
    "\n",
    "# printing result\n",
    "print(\"Maximum length string is : \" , res, \"length=\",max_length_data, \"chosen length=\", max_length)"
   ]
  },
  {
   "cell_type": "code",
   "execution_count": 33,
   "id": "9bbd2d7e-161e-4f36-b8a1-a2780b8a52c1",
   "metadata": {
    "tags": []
   },
   "outputs": [
    {
     "data": {
      "text/plain": [
       "['@C$', '@N$', '@O$', '@C#C$', '@C#N$', '@C=O$']"
      ]
     },
     "execution_count": 33,
     "metadata": {},
     "output_type": "execute_result"
    }
   ],
   "source": [
    "X_data[:6]"
   ]
  },
  {
   "cell_type": "code",
   "execution_count": 34,
   "id": "a47d9d5a-8755-4708-8a8e-7a07f79e69ea",
   "metadata": {
    "tags": []
   },
   "outputs": [],
   "source": [
    "from tensorflow.keras.preprocessing import text, sequence\n",
    "from tensorflow.keras.preprocessing.text import Tokenizer"
   ]
  },
  {
   "cell_type": "code",
   "execution_count": null,
   "id": "63fcf622-7478-42b2-af2d-e7bab7a41cfe",
   "metadata": {},
   "outputs": [],
   "source": [
    "filters=''# '!\"$%&()*+,-./:;<=>?[\\\\]^_`{|}\\t\\n'\n",
    "\n",
    "tokenizer_X = Tokenizer(char_level=True, filters=filters, lower=False)\n",
    "tokenizer_X.fit_on_texts(X_data)\n",
    "        \n",
    "X_data_tokenized = tokenizer_X.texts_to_sequences(X_data)\n",
    "\n",
    "X_data_tokenized= sequence.pad_sequences(X_data_tokenized,  maxlen=max_length, padding='post', truncating='post') \n"
   ]
  },
  {
   "cell_type": "code",
   "execution_count": 35,
   "id": "fe8ebb45-4059-422d-b11e-a5036b0b5ac0",
   "metadata": {
    "tags": []
   },
   "outputs": [],
   "source": [
    "filters=''# '!\"$%&()*+,-./:;<=>?[\\\\]^_`{|}\\t\\n'\n",
    "\n",
    "tokenizer_X = Tokenizer(char_level=True, filters=filters, lower=False)\n",
    "tokenizer_X.fit_on_texts(X_data)\n",
    "        \n",
    "X_data_tokenized = tokenizer_X.texts_to_sequences(X_data)\n",
    "\n",
    "X_data_tokenized= sequence.pad_sequences(X_data_tokenized,  maxlen=max_length, padding='post', truncating='post')  "
   ]
  },
  {
   "cell_type": "code",
   "execution_count": 36,
   "id": "fc592854-037f-41cf-b095-23533e63cfc2",
   "metadata": {
    "tags": []
   },
   "outputs": [
    {
     "data": {
      "text/plain": [
       "[[4]]"
      ]
     },
     "execution_count": 36,
     "metadata": {},
     "output_type": "execute_result"
    }
   ],
   "source": [
    "#generate start token\n",
    "\n",
    "start_char_token= tokenizer_X.texts_to_sequences( start_char )\n",
    "start_char_token"
   ]
  },
  {
   "cell_type": "code",
   "execution_count": 37,
   "id": "3b7e3d9d-de17-4789-b5f1-9d3cedddee75",
   "metadata": {
    "tags": []
   },
   "outputs": [
    {
     "data": {
      "text/plain": [
       "[[5]]"
      ]
     },
     "execution_count": 37,
     "metadata": {},
     "output_type": "execute_result"
    }
   ],
   "source": [
    "end_char_token= tokenizer_X.texts_to_sequences( end_char )\n",
    "end_char_token"
   ]
  },
  {
   "cell_type": "code",
   "execution_count": 38,
   "id": "c10434c3-f52f-4ea7-8704-45ecf4e935cb",
   "metadata": {
    "tags": []
   },
   "outputs": [],
   "source": [
    "def reverse_tokenize (tokenizer_X, X_data, X_norm_factor=1):\n",
    "    #X_data_tokenized_reversed[:12]\n",
    "    X_data_tokenized_reversed=tokenizer_X.sequences_to_texts ( (X_data*X_norm_factor).astype(int) )\n",
    "    k = []\n",
    "    ## k = lambda: [num.strip() for num in X_data_tokenized_reversed]\n",
    "    #k = lambda: [num.replace(' ', '') for num in X_data_tokenized_reversed]\n",
    "    for i in X_data_tokenized_reversed:\n",
    "        i=str(i).replace(' ','')\n",
    "        #print (i)\n",
    "        k.append(i)\n",
    "    return k\n"
   ]
  },
  {
   "cell_type": "code",
   "execution_count": 39,
   "id": "f79765dd-84b6-4acb-b663-c12e23fd0cc2",
   "metadata": {
    "tags": []
   },
   "outputs": [
    {
     "name": "stdout",
     "output_type": "stream",
     "text": [
      "#################################\n",
      "DICTIONARY y_data\n",
      "{'num_words': None, 'filters': '', 'lower': False, 'split': ' ', 'char_level': True, 'oov_token': None, 'document_count': 133885, 'word_counts': '{\"@\": 133885, \"C\": 787482, \"$\": 133885, \"N\": 109306, \"O\": 181161, \"#\": 37027, \"=\": 106335, \"(\": 126532, \")\": 126532, \"1\": 270020, \"c\": 59074, \"[\": 9918, \"n\": 30458, \"H\": 8247, \"]\": 9918, \"o\": 6836, \"3\": 34756, \"+\": 1705, \"-\": 1808, \"2\": 121675, \"F\": 3314, \"4\": 5186, \"5\": 242}', 'word_docs': '{\"$\": 133885, \"@\": 133885, \"C\": 131656, \"N\": 74300, \"O\": 111215, \"#\": 32432, \"=\": 76005, \"(\": 92249, \")\": 92249, \"1\": 119887, \"H\": 7941, \"]\": 7941, \"n\": 16002, \"[\": 7941, \"c\": 17698, \"o\": 6546, \"+\": 1705, \"-\": 1808, \"3\": 17627, \"2\": 60295, \"F\": 2163, \"4\": 2593, \"5\": 121}', 'index_docs': '{\"5\": 133885, \"4\": 133885, \"1\": 131656, \"9\": 74300, \"3\": 111215, \"12\": 32432, \"10\": 76005, \"6\": 92249, \"7\": 92249, \"2\": 119887, \"17\": 7941, \"16\": 7941, \"14\": 16002, \"15\": 7941, \"11\": 17698, \"18\": 6546, \"22\": 1705, \"21\": 1808, \"13\": 17627, \"8\": 60295, \"20\": 2163, \"19\": 2593, \"23\": 121}', 'index_word': '{\"1\": \"C\", \"2\": \"1\", \"3\": \"O\", \"4\": \"@\", \"5\": \"$\", \"6\": \"(\", \"7\": \")\", \"8\": \"2\", \"9\": \"N\", \"10\": \"=\", \"11\": \"c\", \"12\": \"#\", \"13\": \"3\", \"14\": \"n\", \"15\": \"[\", \"16\": \"]\", \"17\": \"H\", \"18\": \"o\", \"19\": \"4\", \"20\": \"F\", \"21\": \"-\", \"22\": \"+\", \"23\": \"5\"}', 'word_index': '{\"C\": 1, \"1\": 2, \"O\": 3, \"@\": 4, \"$\": 5, \"(\": 6, \")\": 7, \"2\": 8, \"N\": 9, \"=\": 10, \"c\": 11, \"#\": 12, \"3\": 13, \"n\": 14, \"[\": 15, \"]\": 16, \"H\": 17, \"o\": 18, \"4\": 19, \"F\": 20, \"-\": 21, \"+\": 22, \"5\": 23}'}\n",
      "Length dictionary:  12\n"
     ]
    },
    {
     "data": {
      "text/plain": [
       "24"
      ]
     },
     "execution_count": 39,
     "metadata": {},
     "output_type": "execute_result"
    }
   ],
   "source": [
    "print (\"#################################\")\n",
    "print (\"DICTIONARY y_data\")\n",
    "dictt=tokenizer_X.get_config()\n",
    "print (dictt)\n",
    "print (\"Length dictionary: \", len (dictt) )\n",
    "num_words = len(tokenizer_X.word_index) + 1\n",
    "num_words\n"
   ]
  },
  {
   "cell_type": "code",
   "execution_count": 40,
   "id": "be0dd7e2-b06c-4d4e-a995-54987dd0c8a5",
   "metadata": {
    "tags": []
   },
   "outputs": [],
   "source": [
    "X_data_tokenized_reversed=reverse_tokenize (tokenizer_X, X_data_tokenized)"
   ]
  },
  {
   "cell_type": "code",
   "execution_count": 41,
   "id": "f1d63d77-c7c4-433f-a5be-25dcaf428473",
   "metadata": {
    "tags": []
   },
   "outputs": [
    {
     "data": {
      "text/plain": [
       "['@C$', '@N$', '@O$', '@C#C$', '@C#N$', '@C=O$']"
      ]
     },
     "execution_count": 41,
     "metadata": {},
     "output_type": "execute_result"
    }
   ],
   "source": [
    "X_data [:6]"
   ]
  },
  {
   "cell_type": "code",
   "execution_count": 42,
   "id": "0b0b8a8f-8063-4da9-96ce-6d22d57bcf12",
   "metadata": {
    "tags": []
   },
   "outputs": [
    {
     "data": {
      "text/plain": [
       "['@C$', '@N$', '@O$', '@C#C$', '@C#N$', '@C=O$']"
      ]
     },
     "execution_count": 42,
     "metadata": {},
     "output_type": "execute_result"
    }
   ],
   "source": [
    "\n",
    "X_data_tokenized_reversed[:6]"
   ]
  },
  {
   "cell_type": "code",
   "execution_count": 43,
   "id": "308b9f81-0b2b-48d5-8d1a-204cf38a5d6d",
   "metadata": {
    "tags": []
   },
   "outputs": [
    {
     "data": {
      "text/plain": [
       "array([[4, 1, 5, ..., 0, 0, 0],\n",
       "       [4, 9, 5, ..., 0, 0, 0],\n",
       "       [4, 3, 5, ..., 0, 0, 0],\n",
       "       ...,\n",
       "       [4, 1, 2, ..., 0, 0, 0],\n",
       "       [4, 1, 2, ..., 0, 0, 0],\n",
       "       [4, 1, 2, ..., 0, 0, 0]], dtype=int32)"
      ]
     },
     "execution_count": 43,
     "metadata": {},
     "output_type": "execute_result"
    }
   ],
   "source": [
    "X_data_tokenized"
   ]
  },
  {
   "cell_type": "code",
   "execution_count": 44,
   "id": "446a56e9-0ef0-4f84-86b3-33790ecaf5da",
   "metadata": {
    "tags": []
   },
   "outputs": [
    {
     "name": "stdout",
     "output_type": "stream",
     "text": [
      "Shapes= (133885, 64), (133885, 12)\n",
      "torch.Size([120496, 64])\n",
      "torch.Size([120496, 12])\n",
      "torch.Size([13389, 64])\n",
      "torch.Size([13389, 12])\n",
      "Number of batches in training: 471\n"
     ]
    }
   ],
   "source": [
    "batch_size_=256\n",
    "train_loader,train_loader_noshuffle, test_loader= get_data_loaders (X_data_tokenized,  y_data ,  split=0.1, \n",
    "                                                                    batch_size_=batch_size_)\n",
    "\n",
    "print (f\"Number of batches in training: {len (train_loader)}\")"
   ]
  },
  {
   "cell_type": "code",
   "execution_count": 45,
   "id": "133e2939-1723-4ea0-ab74-21960754a3ed",
   "metadata": {},
   "outputs": [
    {
     "data": {
      "image/png": "[encoded data removed]",
      "text/plain": [
       "<Figure size 640x480 with 1 Axes>"
      ]
     },
     "metadata": {},
     "output_type": "display_data"
    }
   ],
   "source": [
    "fig_handle =sns.histplot(np.array(X_data_tokenized).flatten(), bins=12,   log_scale=(False, True) )\n",
    "fig = fig_handle.get_figure()\n",
    "fig_handle.set_xlim(0, num_words)\n",
    "#fig_handle.set_ylim(0, 100000)\n",
    "#plt.xticks(range (1,21))\n",
    "plt.show()\n"
   ]
  },
  {
   "cell_type": "code",
   "execution_count": 46,
   "id": "7e38e567-a306-442b-9d9e-8b198a61889f",
   "metadata": {
    "tags": []
   },
   "outputs": [],
   "source": [
    "ALL_SMILES=df['smiles'].values.tolist()\n",
    " \n",
    "def is_novel (ALL_SMILES, smi):\n",
    "    if smi in ALL_SMILES:\n",
    "        return False\n",
    "    else:\n",
    "        return True"
   ]
  },
  {
   "cell_type": "code",
   "execution_count": 47,
   "id": "95f3cce6-023c-4988-ac91-9b03d3028d8a",
   "metadata": {
    "tags": []
   },
   "outputs": [
    {
     "data": {
      "text/plain": [
       "(133885, 64)"
      ]
     },
     "execution_count": 47,
     "metadata": {},
     "output_type": "execute_result"
    }
   ],
   "source": [
    "X_data_tokenized.shape"
   ]
  },
  {
   "cell_type": "markdown",
   "id": "3e3a41d7-afa1-4dfb-8122-35d54c5a5eed",
   "metadata": {},
   "source": [
    "### Set up transformer model"
   ]
  },
  {
   "cell_type": "code",
   "execution_count": 48,
   "id": "80ca3db2-6c34-4c48-92a5-f728e0c71330",
   "metadata": {
    "tags": []
   },
   "outputs": [],
   "source": [
    "import MoleculeDiffusion \n",
    "from   MoleculeDiffusion import remove_start_end_token, MoleculeTransformer,MoleculeTransformerSequence, count_parameters,plot_results_as_barchart\n",
    "from   MoleculeDiffusion import  MoleculeTransformerSequenceEncoder, generate_from_conditioning_transformer,remove_start_end_token_first\n",
    "from   MoleculeDiffusion import    predict_properties_from_SMILES_transformer, train_loop_forward_transformer, sample_loop_forward_transformer"
   ]
  },
  {
   "cell_type": "code",
   "execution_count": 2,
   "id": "df8a64a5-ebb0-4f3c-bc4b-d43e88d1f816",
   "metadata": {
    "tags": []
   },
   "outputs": [],
   "source": [
    "prefix='./transformer_forward/'\n",
    "if not os.path.exists(prefix):\n",
    "        os.mkdir (prefix)"
   ]
  },
  {
   "cell_type": "code",
   "execution_count": 50,
   "id": "3f5293ea-0959-4cf5-bfb3-9918388243db",
   "metadata": {
    "tags": []
   },
   "outputs": [
    {
     "data": {
      "text/plain": [
       "(12, 64, 24)"
      ]
     },
     "execution_count": 50,
     "metadata": {},
     "output_type": "execute_result"
    }
   ],
   "source": [
    "context_embedding_max_length,max_length,num_words"
   ]
  },
  {
   "cell_type": "code",
   "execution_count": null,
   "id": "843ed983-872c-4c3e-8ffd-2cd76dd1c0b0",
   "metadata": {},
   "outputs": [],
   "source": [
    "train_model=False #True"
   ]
  },
  {
   "cell_type": "code",
   "execution_count": 51,
   "id": "49dc299d-0d27-4cb3-8eac-87f174c38e93",
   "metadata": {
    "tags": []
   },
   "outputs": [
    {
     "name": "stdout",
     "output_type": "stream",
     "text": [
      "1 12\n",
      "----------------------------------------------------------------------------------------------------\n",
      "Total parameters:  3162496  trainable parameters:  3162496\n",
      "----------------------------------------------------------------------------------------------------\n"
     ]
    }
   ],
   "source": [
    "#max_length=64\n",
    "context_embedding_max_length=y_data.shape[1]\n",
    "logits_dim = 1 #\n",
    "print (logits_dim, context_embedding_max_length)\n",
    "\n",
    "model_forward = MoleculeTransformerSequenceEncoder(\n",
    "        dim=256,\n",
    "        depth=6,\n",
    "        logits_dim=logits_dim, #logits channels\n",
    "        logits_dim_length = context_embedding_max_length , #if None entire length is used. Otherwise, max_length is projected to logits_dim_length\n",
    "                                #  OUTPUT: (b, logits_dim, logits_dim_length)\n",
    "        max_length = max_length, #  \n",
    "        dim_head = 16,\n",
    "        heads = 16,\n",
    "        dropout = 0.1,\n",
    "        ff_mult = 2.,\n",
    "         max_tokens= num_words,\n",
    "        embed_dim = 16, #for sequence embedding\n",
    "       padding_token=0, #used for mask generation\n",
    "        \n",
    "    #max_text_len = context_embedding_max_length, #max length of conditioning sequence\n",
    "       # pos_fourier_graph_dim= 32, #entire graph fourier embedding, will be added to logits_dim\n",
    "              \n",
    ").to (device)\n",
    "\n",
    "\n",
    "count_parameters (model_forward)\n",
    "\n"
   ]
  },
  {
   "cell_type": "code",
   "execution_count": 52,
   "id": "13c71455-a2c8-411b-8ee2-8b0d9a6b6ba1",
   "metadata": {
    "tags": []
   },
   "outputs": [
    {
     "name": "stdout",
     "output_type": "stream",
     "text": [
      "torch.Size([4, 64])\n"
     ]
    }
   ],
   "source": [
    "seq_input=torch.randint (0,num_words, (4, max_length)).cuda()  #batch, 1, length (length is flexible)\n",
    "print (seq_input.shape)"
   ]
  },
  {
   "cell_type": "code",
   "execution_count": 53,
   "id": "97736614-5f0f-4d18-b52d-b770cc2a587b",
   "metadata": {
    "tags": []
   },
   "outputs": [
    {
     "data": {
      "text/plain": [
       "torch.Size([4, 1, 12])"
      ]
     },
     "execution_count": 53,
     "metadata": {},
     "output_type": "execute_result"
    }
   ],
   "source": [
    "pred=model_forward(seq_input)\n",
    "pred.shape"
   ]
  },
  {
   "cell_type": "code",
   "execution_count": null,
   "id": "b5995265-e89b-4936-ab6d-0aa4efb46b32",
   "metadata": {
    "tags": []
   },
   "outputs": [],
   "source": [
    "\n",
    "if train_model:\n",
    "\n",
    "    optimizer = optim.Adam(model_forward.parameters() , lr=0.0001 )\n",
    "    \n",
    "    loss_list=[]\n",
    "    R2_list=[]\n",
    "\n",
    "    train_loop_forward_transformer (model_forward,device,\n",
    "                    train_loader,test_loader,\n",
    "                    optimizer=optimizer, \n",
    "                    prefix=prefix,\n",
    "                    tokenizer_X=tokenizer_X,\n",
    "                    print_every=1000,\n",
    "                    epochs= 3000000,\n",
    "                    start_ep=0,\n",
    "                    start_step=0,\n",
    "                    print_loss=1*len (train_loader),\n",
    "                    num_samples=256,\n",
    "                    save_model=True,\n",
    "                    show_jointplot=True,\n",
    "                    loss_list=loss_list,\n",
    "                    R2_list=R2_list,                \n",
    "                    )\n",
    "    \n",
    "else:\n",
    "    # Load best model\n",
    "    fname=f'./QM_forward_transformer_2/statedict_save-model-epoch_10.pt' \n",
    "    model_forward.load_state_dict(torch.load(fname))"
   ]
  },
  {
   "cell_type": "code",
   "execution_count": null,
   "id": "2224f93f-07d5-40b6-b3ce-bb1e6319ef15",
   "metadata": {
    "tags": []
   },
   "outputs": [],
   "source": [
    "res, _=predict_properties_from_SMILES_transformer (model_forward,device, SMILES=['C',\n",
    "                                                                     'CCC',\n",
    "                                                                     'CCCCCC',\n",
    "                                                                     'CCCCCCCCC'], \n",
    "                scaler=scaler,\n",
    "                tokenizer_X=tokenizer_X,\n",
    "                flag=0, \n",
    "                draw_molecules=False,\n",
    "                draw_all=False,\n",
    "                mols_per_row=8,max_length = 64,\n",
    "                context_embedding_max_length=12, \n",
    "               )\n",
    "\n",
    "plt.plot (res[:,:])\n",
    "plt.show()"
   ]
  },
  {
   "cell_type": "code",
   "execution_count": null,
   "id": "4977c46f-fef9-429a-ab95-0bf78b99d4a2",
   "metadata": {
    "tags": []
   },
   "outputs": [],
   "source": [
    "sample_loop (model_forward,device,\n",
    "                test_loader,model_forward=model_forward,\n",
    "                num_samples=64, #how many samples produced every time tested.....\n",
    "                tokens_to_generate=max_length-1,show_jointplot=True ,\n",
    "                draw_molecules=True,\n",
    "                temperature=1.,\n",
    "            )"
   ]
  },
  {
   "cell_type": "code",
   "execution_count": null,
   "id": "55d7db8b-9faa-4159-ab78-f1682dc45826",
   "metadata": {},
   "outputs": [],
   "source": [
    "res, _=predict_properties_from_SMILES_transformer (model_forward,device, SMILES=['C',\n",
    "                                                                     'CCC',\n",
    "                                                                     'CCCCCC',\n",
    "                                                                     'CCCCCCCCC'], \n",
    "               # X_norm_factor=X_norm_factor,\n",
    "                scaler=scaler,\n",
    "                tokenizer_X=tokenizer_X,\n",
    "               \n",
    "             #   cond_scales=[1.], #list of cond scales - each sampled...\n",
    "                \n",
    "               # timesteps=100,\n",
    "                flag=0, \n",
    "              #  clamp=False,\n",
    "                 \n",
    "                draw_molecules=False,\n",
    "                draw_all=False,\n",
    "                mols_per_row=8,max_length = 64,\n",
    "                                       \n",
    "                context_embedding_max_length=12, \n",
    "               )\n",
    "\n",
    "plt.plot (res[:,:])\n",
    "plt.show()"
   ]
  }
 ],
 "metadata": {
  "kernelspec": {
   "display_name": "Python 3 (ipykernel)",
   "language": "python",
   "name": "python3"
  },
  "language_info": {
   "codemirror_mode": {
    "name": "ipython",
    "version": 3
   },
   "file_extension": ".py",
   "mimetype": "text/x-python",
   "name": "python",
   "nbconvert_exporter": "python",
   "pygments_lexer": "ipython3",
   "version": "3.9.16"
  }
 },
 "nbformat": 4,
 "nbformat_minor": 5
}
