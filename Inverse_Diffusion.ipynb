{
 "cells": [
  {
   "cell_type": "markdown",
   "id": "d84cbe61-fca7-48e1-b31f-5007b49ed856",
   "metadata": {
    "tags": []
   },
   "source": [
    "# MoleculeDiffusionTransformer: Inverse diffusion model (Generate SMILES based on conditioning)\n",
    "\n",
    "Reference:\n",
    "\n",
    "#### Generative Discovery of Novel Chemical Designs using Diffusion Modeling and Transformer Architectures with Application to Deep Eutectic Solvents \n",
    "\n",
    "Rachel K. Luu1,2, Marcin Wysokowski1 , Markus J. Buehler1,3*\n",
    "\n",
    "1 Laboratory for Atomistic and Molecular Mechanics (LAMM), Massachusetts Institute of Technology, 77 Massachusetts Ave., Cambridge, MA 02139, USA\n",
    "2 Department of Materials Science and Engineering, Massachusetts Institute of Technology, 77 Massachusetts Ave., Cambridge, MA 02139, USA\n",
    "3 Center for Computational Science and Engineering, Schwarzman College of Computing, Massachusetts Institute of Technology, 77 Massachusetts Ave., Cambridge, MA 02139, USA\n",
    "\n",
    "mbuehler@MIT.EDU "
   ]
  },
  {
   "cell_type": "code",
   "execution_count": 1,
   "id": "0f2a03dc-cb12-4d91-8f19-dd6d77872f47",
   "metadata": {
    "tags": []
   },
   "outputs": [],
   "source": [
    "#!wget https://www.dropbox.com/s/gajj3euub7k9p9j/qm9_.csv?dl=0 -O qm9_.csv\n",
    "#QM9: https://github.com/wengong-jin/chemprop"
   ]
  },
  {
   "cell_type": "code",
   "execution_count": 2,
   "id": "2a6191d6-930d-4a20-94a0-87f97b5a5a7b",
   "metadata": {
    "tags": []
   },
   "outputs": [],
   "source": [
    "import os,sys\n",
    "import math\n",
    "import matplotlib.pyplot as plt \n",
    "#os.environ[\"CUDA_VISIBLE_DEVICES\"] = \"-1\"\n",
    "os.environ[\"CUDA_VISIBLE_DEVICES\"] = \"0\"\n",
    "def exists(val):\n",
    "    return val is not None\n",
    "\n",
    "import torch\n",
    "\n",
    "from sklearn.model_selection import train_test_split\n",
    "#from tqdm import tqdm, trange\n",
    "from tqdm.notebook import trange, tqdm\n",
    "\n",
    " \n",
    "import torchvision\n",
    " \n",
    "import matplotlib.pyplot as plt\n",
    "from PIL import Image\n",
    "\n",
    "import numpy as np\n",
    " \n",
    "from torch import nn\n",
    "from torch import optim, Tensor\n",
    "import torch.nn.functional as F\n",
    "from torchvision import datasets, transforms, models\n",
    "import numpy as np\n",
    "import torch.optim as optim\n",
    "from torch.optim.lr_scheduler import ExponentialLR, StepLR\n",
    "from functools import partial, wraps"
   ]
  },
  {
   "cell_type": "code",
   "execution_count": 3,
   "id": "ace1523c-d461-466d-92a5-b5877d2bc61d",
   "metadata": {
    "tags": []
   },
   "outputs": [
    {
     "name": "stderr",
     "output_type": "stream",
     "text": [
      "2023-04-06 12:04:45.840775: I tensorflow/core/platform/cpu_feature_guard.cc:193] This TensorFlow binary is optimized with oneAPI Deep Neural Network Library (oneDNN) to use the following CPU instructions in performance-critical operations:  AVX2 AVX512F AVX512_VNNI FMA\n",
      "To enable them in other operations, rebuild TensorFlow with the appropriate compiler flags.\n",
      "2023-04-06 12:04:45.991753: I tensorflow/core/util/port.cc:104] oneDNN custom operations are on. You may see slightly different numerical results due to floating-point round-off errors from different computation orders. To turn them off, set the environment variable `TF_ENABLE_ONEDNN_OPTS=0`.\n"
     ]
    }
   ],
   "source": [
    "from MoleculeDiffusion import pad_sequence_lastchannel, train_loop_forward, sample_loop_forward\n",
    "from MoleculeDiffusion import predict_properties_from_SMILES, QMDiffusionForward,reverse_tokenize\n",
    "from MoleculeDiffusion import draw_and_save, draw_and_save_set, MoleculeDataset, get_data_loaders, is_novel "
   ]
  },
  {
   "cell_type": "code",
   "execution_count": 4,
   "id": "475ea20b-5326-41f6-9f3c-e11e863bf67f",
   "metadata": {
    "tags": []
   },
   "outputs": [],
   "source": [
    "device = torch.device(\"cuda\" if torch.cuda.is_available() \n",
    "                                  else \"cpu\")"
   ]
  },
  {
   "cell_type": "code",
   "execution_count": 5,
   "id": "69514f21-e80f-44d4-aade-05e7c6c63621",
   "metadata": {
    "tags": []
   },
   "outputs": [],
   "source": [
    "import pandas as pd\n",
    "\n",
    "from torch.utils.data import DataLoader,Dataset\n",
    "import pandas as pd\n",
    "import seaborn as sns\n",
    "import time"
   ]
  },
  {
   "cell_type": "code",
   "execution_count": 6,
   "id": "c8a2ef7c-e0b4-404b-acc1-d7ad4cf46c86",
   "metadata": {
    "tags": []
   },
   "outputs": [
    {
     "name": "stdout",
     "output_type": "stream",
     "text": [
      "Torch version: 1.13.1+cu116\n"
     ]
    }
   ],
   "source": [
    "print(\"Torch version:\", torch.__version__) "
   ]
  },
  {
   "cell_type": "code",
   "execution_count": 7,
   "id": "ef0479bb-900f-4f34-b641-536e0ea1b9d8",
   "metadata": {
    "tags": []
   },
   "outputs": [
    {
     "data": {
      "text/html": [
       "<div>\n",
       "<style scoped>\n",
       "    .dataframe tbody tr th:only-of-type {\n",
       "        vertical-align: middle;\n",
       "    }\n",
       "\n",
       "    .dataframe tbody tr th {\n",
       "        vertical-align: top;\n",
       "    }\n",
       "\n",
       "    .dataframe thead th {\n",
       "        text-align: right;\n",
       "    }\n",
       "</style>\n",
       "<table border=\"1\" class=\"dataframe\">\n",
       "  <thead>\n",
       "    <tr style=\"text-align: right;\">\n",
       "      <th></th>\n",
       "      <th>mu</th>\n",
       "      <th>alpha</th>\n",
       "      <th>homo</th>\n",
       "      <th>lumo</th>\n",
       "      <th>gap</th>\n",
       "      <th>r2</th>\n",
       "      <th>zpve</th>\n",
       "      <th>cv</th>\n",
       "      <th>u0</th>\n",
       "      <th>u298</th>\n",
       "      <th>h298</th>\n",
       "      <th>g298</th>\n",
       "    </tr>\n",
       "  </thead>\n",
       "  <tbody>\n",
       "    <tr>\n",
       "      <th>count</th>\n",
       "      <td>133885.000000</td>\n",
       "      <td>133885.000000</td>\n",
       "      <td>133885.000000</td>\n",
       "      <td>133885.000000</td>\n",
       "      <td>133885.000000</td>\n",
       "      <td>133885.000000</td>\n",
       "      <td>133885.000000</td>\n",
       "      <td>133885.000000</td>\n",
       "      <td>133885.000000</td>\n",
       "      <td>133885.000000</td>\n",
       "      <td>133885.000000</td>\n",
       "      <td>133885.000000</td>\n",
       "    </tr>\n",
       "    <tr>\n",
       "      <th>mean</th>\n",
       "      <td>2.706037</td>\n",
       "      <td>75.191296</td>\n",
       "      <td>-0.239977</td>\n",
       "      <td>0.011124</td>\n",
       "      <td>0.251100</td>\n",
       "      <td>1189.527450</td>\n",
       "      <td>0.148524</td>\n",
       "      <td>31.600676</td>\n",
       "      <td>-411.543985</td>\n",
       "      <td>-411.535513</td>\n",
       "      <td>-411.534569</td>\n",
       "      <td>-411.577397</td>\n",
       "    </tr>\n",
       "    <tr>\n",
       "      <th>std</th>\n",
       "      <td>1.530394</td>\n",
       "      <td>8.187793</td>\n",
       "      <td>0.022131</td>\n",
       "      <td>0.046936</td>\n",
       "      <td>0.047519</td>\n",
       "      <td>279.757172</td>\n",
       "      <td>0.033274</td>\n",
       "      <td>4.062471</td>\n",
       "      <td>40.060230</td>\n",
       "      <td>40.060012</td>\n",
       "      <td>40.060012</td>\n",
       "      <td>40.060741</td>\n",
       "    </tr>\n",
       "    <tr>\n",
       "      <th>min</th>\n",
       "      <td>0.000000</td>\n",
       "      <td>6.310000</td>\n",
       "      <td>-0.428600</td>\n",
       "      <td>-0.175000</td>\n",
       "      <td>0.024600</td>\n",
       "      <td>19.000200</td>\n",
       "      <td>0.015951</td>\n",
       "      <td>6.002000</td>\n",
       "      <td>-714.568061</td>\n",
       "      <td>-714.560153</td>\n",
       "      <td>-714.559209</td>\n",
       "      <td>-714.602138</td>\n",
       "    </tr>\n",
       "    <tr>\n",
       "      <th>25%</th>\n",
       "      <td>1.588700</td>\n",
       "      <td>70.380000</td>\n",
       "      <td>-0.252500</td>\n",
       "      <td>-0.023800</td>\n",
       "      <td>0.216300</td>\n",
       "      <td>1018.322600</td>\n",
       "      <td>0.125289</td>\n",
       "      <td>28.942000</td>\n",
       "      <td>-437.913936</td>\n",
       "      <td>-437.905942</td>\n",
       "      <td>-437.904997</td>\n",
       "      <td>-437.947682</td>\n",
       "    </tr>\n",
       "    <tr>\n",
       "      <th>50%</th>\n",
       "      <td>2.500000</td>\n",
       "      <td>75.500000</td>\n",
       "      <td>-0.241000</td>\n",
       "      <td>0.012000</td>\n",
       "      <td>0.249400</td>\n",
       "      <td>1147.585800</td>\n",
       "      <td>0.148329</td>\n",
       "      <td>31.555000</td>\n",
       "      <td>-417.864758</td>\n",
       "      <td>-417.857351</td>\n",
       "      <td>-417.856407</td>\n",
       "      <td>-417.895731</td>\n",
       "    </tr>\n",
       "    <tr>\n",
       "      <th>75%</th>\n",
       "      <td>3.636100</td>\n",
       "      <td>80.520000</td>\n",
       "      <td>-0.228700</td>\n",
       "      <td>0.049200</td>\n",
       "      <td>0.288200</td>\n",
       "      <td>1308.816600</td>\n",
       "      <td>0.171150</td>\n",
       "      <td>34.276000</td>\n",
       "      <td>-387.049166</td>\n",
       "      <td>-387.039746</td>\n",
       "      <td>-387.038802</td>\n",
       "      <td>-387.083279</td>\n",
       "    </tr>\n",
       "    <tr>\n",
       "      <th>max</th>\n",
       "      <td>29.556400</td>\n",
       "      <td>196.620000</td>\n",
       "      <td>-0.101700</td>\n",
       "      <td>0.193500</td>\n",
       "      <td>0.622100</td>\n",
       "      <td>3374.753200</td>\n",
       "      <td>0.273944</td>\n",
       "      <td>46.969000</td>\n",
       "      <td>-40.478930</td>\n",
       "      <td>-40.476062</td>\n",
       "      <td>-40.475117</td>\n",
       "      <td>-40.498597</td>\n",
       "    </tr>\n",
       "  </tbody>\n",
       "</table>\n",
       "</div>"
      ],
      "text/plain": [
       "                  mu          alpha           homo           lumo  \\\n",
       "count  133885.000000  133885.000000  133885.000000  133885.000000   \n",
       "mean        2.706037      75.191296      -0.239977       0.011124   \n",
       "std         1.530394       8.187793       0.022131       0.046936   \n",
       "min         0.000000       6.310000      -0.428600      -0.175000   \n",
       "25%         1.588700      70.380000      -0.252500      -0.023800   \n",
       "50%         2.500000      75.500000      -0.241000       0.012000   \n",
       "75%         3.636100      80.520000      -0.228700       0.049200   \n",
       "max        29.556400     196.620000      -0.101700       0.193500   \n",
       "\n",
       "                 gap             r2           zpve             cv  \\\n",
       "count  133885.000000  133885.000000  133885.000000  133885.000000   \n",
       "mean        0.251100    1189.527450       0.148524      31.600676   \n",
       "std         0.047519     279.757172       0.033274       4.062471   \n",
       "min         0.024600      19.000200       0.015951       6.002000   \n",
       "25%         0.216300    1018.322600       0.125289      28.942000   \n",
       "50%         0.249400    1147.585800       0.148329      31.555000   \n",
       "75%         0.288200    1308.816600       0.171150      34.276000   \n",
       "max         0.622100    3374.753200       0.273944      46.969000   \n",
       "\n",
       "                  u0           u298           h298           g298  \n",
       "count  133885.000000  133885.000000  133885.000000  133885.000000  \n",
       "mean     -411.543985    -411.535513    -411.534569    -411.577397  \n",
       "std        40.060230      40.060012      40.060012      40.060741  \n",
       "min      -714.568061    -714.560153    -714.559209    -714.602138  \n",
       "25%      -437.913936    -437.905942    -437.904997    -437.947682  \n",
       "50%      -417.864758    -417.857351    -417.856407    -417.895731  \n",
       "75%      -387.049166    -387.039746    -387.038802    -387.083279  \n",
       "max       -40.478930     -40.476062     -40.475117     -40.498597  "
      ]
     },
     "execution_count": 7,
     "metadata": {},
     "output_type": "execute_result"
    }
   ],
   "source": [
    "df=pd.read_csv(\"qm9_.csv\")\n",
    "df.describe()"
   ]
  },
  {
   "cell_type": "code",
   "execution_count": 8,
   "id": "35661a6f-51cd-4a42-8b8a-6f99ab7658db",
   "metadata": {
    "tags": []
   },
   "outputs": [
    {
     "data": {
      "text/plain": [
       "0                           C\n",
       "1                           N\n",
       "2                           O\n",
       "3                         C#C\n",
       "4                         C#N\n",
       "                 ...         \n",
       "133880    C1C2C3C4C5OC14C5N23\n",
       "133881    C1N2C3C2C2C4OC12C34\n",
       "133882    C1N2C3C4C5C2C13CN45\n",
       "133883    C1N2C3C4C5CC13C2C45\n",
       "133884    C1N2C3C4C5OC13C2C45\n",
       "Name: smiles, Length: 133885, dtype: object"
      ]
     },
     "execution_count": 8,
     "metadata": {},
     "output_type": "execute_result"
    }
   ],
   "source": [
    "df['smiles']"
   ]
  },
  {
   "cell_type": "code",
   "execution_count": 9,
   "id": "07a7a16b-7586-4760-a9a1-85610d2d9397",
   "metadata": {
    "tags": []
   },
   "outputs": [
    {
     "data": {
      "text/plain": [
       "['C',\n",
       " 'N',\n",
       " 'O',\n",
       " 'C#C',\n",
       " 'C#N',\n",
       " 'C=O',\n",
       " 'CC',\n",
       " 'CO',\n",
       " 'CC#C',\n",
       " 'CC#N',\n",
       " 'CC=O',\n",
       " 'C(=O)N']"
      ]
     },
     "execution_count": 9,
     "metadata": {},
     "output_type": "execute_result"
    }
   ],
   "source": [
    "ALL_SMILES=df['smiles'].values.tolist()\n",
    "ALL_SMILES[:12]"
   ]
  },
  {
   "cell_type": "code",
   "execution_count": 10,
   "id": "e14ebac8-a9b7-4e8e-93f9-9cb15c45da49",
   "metadata": {
    "tags": []
   },
   "outputs": [
    {
     "data": {
      "text/plain": [
       "(True, False)"
      ]
     },
     "execution_count": 10,
     "metadata": {},
     "output_type": "execute_result"
    }
   ],
   "source": [
    "#determines whether or not SMILES code is in dataset\n",
    "is_novel (ALL_SMILES, 'CG'), is_novel (ALL_SMILES, 'C')"
   ]
  },
  {
   "cell_type": "code",
   "execution_count": 11,
   "id": "bac86890-f9f5-4cc4-997d-e5700baa5cd3",
   "metadata": {
    "tags": []
   },
   "outputs": [
    {
     "data": {
      "text/plain": [
       "((12,), (133885, 13))"
      ]
     },
     "execution_count": 11,
     "metadata": {},
     "output_type": "execute_result"
    }
   ],
   "source": [
    "df.loc[0,:] [1:].shape, df.iloc[:,:].shape "
   ]
  },
  {
   "cell_type": "code",
   "execution_count": null,
   "id": "dd7a6903-e99f-4f2e-996d-b590867b8ba8",
   "metadata": {
    "tags": []
   },
   "outputs": [],
   "source": []
  },
  {
   "cell_type": "markdown",
   "id": "404aaab2-f334-4b9b-b565-d186d28f3c4a",
   "metadata": {},
   "source": [
    "### Smiles to Image"
   ]
  },
  {
   "cell_type": "code",
   "execution_count": 12,
   "id": "abc9316c-1e9a-489f-bb78-bbbbfb75cafe",
   "metadata": {
    "tags": []
   },
   "outputs": [],
   "source": [
    "import rdkit\n",
    "from rdkit import Chem\n",
    "from rdkit.Chem import Draw\n",
    "\n",
    "from rdkit.Chem.Draw import IPythonConsole\n",
    "from rdkit.Chem import rdFMCS\n",
    "from rdkit.Chem.Draw import rdDepictor"
   ]
  },
  {
   "cell_type": "code",
   "execution_count": 13,
   "id": "0f83dbe7-819c-4cce-ad1b-8297141fc7c2",
   "metadata": {
    "tags": []
   },
   "outputs": [
    {
     "data": {
      "image/png": "[encoded data removed]",
      "text/plain": [
       "<IPython.core.display.Image object>"
      ]
     },
     "execution_count": 13,
     "metadata": {},
     "output_type": "execute_result"
    }
   ],
   "source": [
    "molecule1 = Chem.MolFromSmiles('CC=C')\n",
    "molecule2 = Chem.MolFromSmiles('CNC=C')\n",
    "Draw.MolsToGridImage((molecule1,molecule2), subImgSize=(250,250))"
   ]
  },
  {
   "cell_type": "code",
   "execution_count": 14,
   "id": "b811d811-f98c-49be-820a-d95c424b9125",
   "metadata": {
    "tags": []
   },
   "outputs": [
    {
     "data": {
      "image/png": "[encoded data removed]",
      "text/plain": [
       "<Figure size 640x480 with 1 Axes>"
      ]
     },
     "metadata": {},
     "output_type": "display_data"
    },
    {
     "data": {
      "text/plain": [
       "True"
      ]
     },
     "execution_count": 14,
     "metadata": {},
     "output_type": "execute_result"
    }
   ],
   "source": [
    "draw_and_save (smi = 'CC=C', GTsmile = 'CNC=C', fname='out.png', add_Hs=True)"
   ]
  },
  {
   "cell_type": "code",
   "execution_count": 15,
   "id": "d7d073cc-02bf-497a-bef8-448ccf81f60d",
   "metadata": {
    "tags": []
   },
   "outputs": [
    {
     "data": {
      "image/png": "[encoded data removed]",
      "text/plain": [
       "<IPython.core.display.Image object>"
      ]
     },
     "execution_count": 15,
     "metadata": {},
     "output_type": "execute_result"
    }
   ],
   "source": [
    "Draw.MolsToGridImage((molecule1,molecule2), subImgSize=(250,250))"
   ]
  },
  {
   "cell_type": "code",
   "execution_count": 16,
   "id": "9a2cb3a1-488a-402b-8748-5352683dcf86",
   "metadata": {
    "tags": []
   },
   "outputs": [
    {
     "data": {
      "image/png": "[encoded data removed]",
      "text/plain": [
       "<Figure size 100x100 with 1 Axes>"
      ]
     },
     "metadata": {},
     "output_type": "display_data"
    },
    {
     "data": {
      "image/png": "[encoded data removed]",
      "text/plain": [
       "<Figure size 100x100 with 1 Axes>"
      ]
     },
     "metadata": {},
     "output_type": "display_data"
    },
    {
     "data": {
      "text/plain": [
       "True"
      ]
     },
     "execution_count": 16,
     "metadata": {},
     "output_type": "execute_result"
    }
   ],
   "source": [
    "draw_and_save (smi = 'CC(=CC(C)(C)CCCCCCCC(=O)O)C1CCC2C(=CC=C3CC(O)CC(O)C3)CCCC21C', fname='out.png')\n",
    "draw_and_save (smi = 'CC=C', fname='out.png', add_Hs=True)"
   ]
  },
  {
   "cell_type": "markdown",
   "id": "5160b737-e75a-4ce5-b62a-e5e42e60f961",
   "metadata": {},
   "source": [
    "### Define and normalize predicted properties y-data\n",
    "\n",
    "We first normalize the y_data, molecular properties, to be in a range from -1...1"
   ]
  },
  {
   "cell_type": "code",
   "execution_count": 17,
   "id": "2c862704-b445-435f-8b56-23d00c2f547a",
   "metadata": {
    "tags": []
   },
   "outputs": [
    {
     "data": {
      "text/plain": [
       "(133885, 12)"
      ]
     },
     "execution_count": 17,
     "metadata": {},
     "output_type": "execute_result"
    }
   ],
   "source": [
    "y_data=df.iloc [:, 1: ] .to_numpy()\n",
    "y_data.shape"
   ]
  },
  {
   "cell_type": "code",
   "execution_count": 18,
   "id": "7e219a9c-0dce-44e5-872c-6be409c8575d",
   "metadata": {
    "tags": []
   },
   "outputs": [
    {
     "data": {
      "text/plain": [
       "(133885, 12)"
      ]
     },
     "execution_count": 18,
     "metadata": {},
     "output_type": "execute_result"
    }
   ],
   "source": [
    "from sklearn.preprocessing import MinMaxScaler\n",
    "\n",
    "scaler = MinMaxScaler(feature_range=(-1, 1)) \n",
    "y_data = scaler.fit_transform(y_data, )  #array-like of shape (n_samples, n_features)\n",
    "y_data.shape"
   ]
  },
  {
   "cell_type": "code",
   "execution_count": 19,
   "id": "b4fd7082-83cb-4dcc-99b5-d10a28fea63f",
   "metadata": {
    "tags": []
   },
   "outputs": [
    {
     "data": {
      "text/plain": [
       "12"
      ]
     },
     "execution_count": 19,
     "metadata": {},
     "output_type": "execute_result"
    }
   ],
   "source": [
    "#context_embedding_max_length defines the length of the predicted variables\n",
    "context_embedding_max_length=y_data.shape[1]\n",
    "context_embedding_max_length"
   ]
  },
  {
   "cell_type": "code",
   "execution_count": 20,
   "id": "c05a756c-c23b-4431-8ef6-d8564c2bac8b",
   "metadata": {
    "tags": []
   },
   "outputs": [
    {
     "data": {
      "text/html": [
       "<style>#sk-container-id-1 {color: black;background-color: white;}#sk-container-id-1 pre{padding: 0;}#sk-container-id-1 div.sk-toggleable {background-color: white;}#sk-container-id-1 label.sk-toggleable__label {cursor: pointer;display: block;width: 100%;margin-bottom: 0;padding: 0.3em;box-sizing: border-box;text-align: center;}#sk-container-id-1 label.sk-toggleable__label-arrow:before {content: \"▸\";float: left;margin-right: 0.25em;color: #696969;}#sk-container-id-1 label.sk-toggleable__label-arrow:hover:before {color: black;}#sk-container-id-1 div.sk-estimator:hover label.sk-toggleable__label-arrow:before {color: black;}#sk-container-id-1 div.sk-toggleable__content {max-height: 0;max-width: 0;overflow: hidden;text-align: left;background-color: #f0f8ff;}#sk-container-id-1 div.sk-toggleable__content pre {margin: 0.2em;color: black;border-radius: 0.25em;background-color: #f0f8ff;}#sk-container-id-1 input.sk-toggleable__control:checked~div.sk-toggleable__content {max-height: 200px;max-width: 100%;overflow: auto;}#sk-container-id-1 input.sk-toggleable__control:checked~label.sk-toggleable__label-arrow:before {content: \"▾\";}#sk-container-id-1 div.sk-estimator input.sk-toggleable__control:checked~label.sk-toggleable__label {background-color: #d4ebff;}#sk-container-id-1 div.sk-label input.sk-toggleable__control:checked~label.sk-toggleable__label {background-color: #d4ebff;}#sk-container-id-1 input.sk-hidden--visually {border: 0;clip: rect(1px 1px 1px 1px);clip: rect(1px, 1px, 1px, 1px);height: 1px;margin: -1px;overflow: hidden;padding: 0;position: absolute;width: 1px;}#sk-container-id-1 div.sk-estimator {font-family: monospace;background-color: #f0f8ff;border: 1px dotted black;border-radius: 0.25em;box-sizing: border-box;margin-bottom: 0.5em;}#sk-container-id-1 div.sk-estimator:hover {background-color: #d4ebff;}#sk-container-id-1 div.sk-parallel-item::after {content: \"\";width: 100%;border-bottom: 1px solid gray;flex-grow: 1;}#sk-container-id-1 div.sk-label:hover label.sk-toggleable__label {background-color: #d4ebff;}#sk-container-id-1 div.sk-serial::before {content: \"\";position: absolute;border-left: 1px solid gray;box-sizing: border-box;top: 0;bottom: 0;left: 50%;z-index: 0;}#sk-container-id-1 div.sk-serial {display: flex;flex-direction: column;align-items: center;background-color: white;padding-right: 0.2em;padding-left: 0.2em;position: relative;}#sk-container-id-1 div.sk-item {position: relative;z-index: 1;}#sk-container-id-1 div.sk-parallel {display: flex;align-items: stretch;justify-content: center;background-color: white;position: relative;}#sk-container-id-1 div.sk-item::before, #sk-container-id-1 div.sk-parallel-item::before {content: \"\";position: absolute;border-left: 1px solid gray;box-sizing: border-box;top: 0;bottom: 0;left: 50%;z-index: -1;}#sk-container-id-1 div.sk-parallel-item {display: flex;flex-direction: column;z-index: 1;position: relative;background-color: white;}#sk-container-id-1 div.sk-parallel-item:first-child::after {align-self: flex-end;width: 50%;}#sk-container-id-1 div.sk-parallel-item:last-child::after {align-self: flex-start;width: 50%;}#sk-container-id-1 div.sk-parallel-item:only-child::after {width: 0;}#sk-container-id-1 div.sk-dashed-wrapped {border: 1px dashed gray;margin: 0 0.4em 0.5em 0.4em;box-sizing: border-box;padding-bottom: 0.4em;background-color: white;}#sk-container-id-1 div.sk-label label {font-family: monospace;font-weight: bold;display: inline-block;line-height: 1.2em;}#sk-container-id-1 div.sk-label-container {text-align: center;}#sk-container-id-1 div.sk-container {/* jupyter's `normalize.less` sets `[hidden] { display: none; }` but bootstrap.min.css set `[hidden] { display: none !important; }` so we also need the `!important` here to be able to override the default hidden behavior on the sphinx rendered scikit-learn.org. See: https://github.com/scikit-learn/scikit-learn/issues/21755 */display: inline-block !important;position: relative;}#sk-container-id-1 div.sk-text-repr-fallback {display: none;}</style><div id=\"sk-container-id-1\" class=\"sk-top-container\"><div class=\"sk-text-repr-fallback\"><pre>MinMaxScaler(feature_range=(-1, 1))</pre><b>In a Jupyter environment, please rerun this cell to show the HTML representation or trust the notebook. <br />On GitHub, the HTML representation is unable to render, please try loading this page with nbviewer.org.</b></div><div class=\"sk-container\" hidden><div class=\"sk-item\"><div class=\"sk-estimator sk-toggleable\"><input class=\"sk-toggleable__control sk-hidden--visually\" id=\"sk-estimator-id-1\" type=\"checkbox\" checked><label for=\"sk-estimator-id-1\" class=\"sk-toggleable__label sk-toggleable__label-arrow\">MinMaxScaler</label><div class=\"sk-toggleable__content\"><pre>MinMaxScaler(feature_range=(-1, 1))</pre></div></div></div></div></div>"
      ],
      "text/plain": [
       "MinMaxScaler(feature_range=(-1, 1))"
      ]
     },
     "execution_count": 20,
     "metadata": {},
     "output_type": "execute_result"
    }
   ],
   "source": [
    "scaler"
   ]
  },
  {
   "cell_type": "code",
   "execution_count": 21,
   "id": "1b388f98-f035-4fb4-a6c5-36aff8f81a2c",
   "metadata": {
    "tags": []
   },
   "outputs": [
    {
     "data": {
      "image/png": "[encoded data removed]",
      "text/plain": [
       "<Figure size 640x480 with 1 Axes>"
      ]
     },
     "metadata": {},
     "output_type": "display_data"
    },
    {
     "data": {
      "image/png": "[encoded data removed]",
      "text/plain": [
       "<Figure size 640x480 with 1 Axes>"
      ]
     },
     "metadata": {},
     "output_type": "display_data"
    }
   ],
   "source": [
    "#show histograms of y_data for two examples\n",
    "plt.hist (y_data[:,1])\n",
    "plt.show()\n",
    "plt.hist (y_data[:,6])\n",
    "plt.show()"
   ]
  },
  {
   "cell_type": "code",
   "execution_count": 22,
   "id": "b42de572-6c84-45ab-90e2-52d453f2c7f4",
   "metadata": {
    "tags": []
   },
   "outputs": [],
   "source": [
    "make_pairplot = False\n",
    "if make_pairplot:\n",
    "    sns_plot=sns.pairplot (df.iloc [:, 1: ])\n",
    "    sns_plot.savefig(\"pairplot.svg\")"
   ]
  },
  {
   "cell_type": "markdown",
   "id": "b41d0526-641e-4507-a75c-ca168f91a061",
   "metadata": {
    "tags": []
   },
   "source": [
    "### Define and normalize input properties X_data (SMILES strings)"
   ]
  },
  {
   "cell_type": "code",
   "execution_count": 23,
   "id": "c79eb98d-78c2-48f7-8579-a9ea68dc0400",
   "metadata": {
    "tags": []
   },
   "outputs": [],
   "source": [
    "from tensorflow.keras.preprocessing import text, sequence\n",
    "from tensorflow.keras.preprocessing.text import Tokenizer"
   ]
  },
  {
   "cell_type": "code",
   "execution_count": 24,
   "id": "e8a13a4d-45c6-42ab-a636-863f9d03604f",
   "metadata": {
    "tags": []
   },
   "outputs": [],
   "source": [
    "X_data= df['smiles']"
   ]
  },
  {
   "cell_type": "code",
   "execution_count": 25,
   "id": "a6897aff-d83e-4439-b8f1-5de03ee8aeb1",
   "metadata": {
    "tags": []
   },
   "outputs": [
    {
     "name": "stdout",
     "output_type": "stream",
     "text": [
      "Maximum length string is :  c1(=O)[nH]c(=O)[nH]c(=O)[nH]1 length= 29 chosen length= 32\n"
     ]
    }
   ],
   "source": [
    "max_length_generative=32\n",
    "\n",
    "len (X_data[:6])\n",
    "\n",
    "res = max(X_data[:,], key = len)\n",
    "max_length_data=len (res)\n",
    "max_length= max (max_length_data, max_length_generative)\n",
    "\n",
    "# printing result\n",
    "print(\"Maximum length string is : \" , res, \"length=\",max_length_data, \"chosen length=\", max_length)"
   ]
  },
  {
   "cell_type": "code",
   "execution_count": 26,
   "id": "f53e9af9-d2e2-4366-93b6-26e016edb656",
   "metadata": {
    "tags": []
   },
   "outputs": [
    {
     "data": {
      "text/plain": [
       "32"
      ]
     },
     "execution_count": 26,
     "metadata": {},
     "output_type": "execute_result"
    }
   ],
   "source": [
    "max_length"
   ]
  },
  {
   "cell_type": "code",
   "execution_count": 27,
   "id": "f961e96d-0833-4856-bc87-cbfaf547d191",
   "metadata": {
    "tags": []
   },
   "outputs": [
    {
     "data": {
      "text/plain": [
       "0      C\n",
       "1      N\n",
       "2      O\n",
       "3    C#C\n",
       "4    C#N\n",
       "5    C=O\n",
       "Name: smiles, dtype: object"
      ]
     },
     "execution_count": 27,
     "metadata": {},
     "output_type": "execute_result"
    }
   ],
   "source": [
    "X_data[:6]"
   ]
  },
  {
   "cell_type": "code",
   "execution_count": 28,
   "id": "31eb573e-9b50-44c7-bfb1-2667751719dd",
   "metadata": {
    "tags": []
   },
   "outputs": [],
   "source": [
    "filters=''# '!\"$%&()*+,-./:;<=>?[\\\\]^_`{|}\\t\\n'\n",
    "\n",
    "tokenizer_X = Tokenizer(char_level=True, filters=filters, lower=False)\n",
    "tokenizer_X.fit_on_texts(X_data)\n",
    "        \n",
    "X_data_tokenized = tokenizer_X.texts_to_sequences(X_data)\n",
    "\n",
    "X_data_tokenized= sequence.pad_sequences(X_data_tokenized,  maxlen=max_length, padding='post', truncating='post') "
   ]
  },
  {
   "cell_type": "code",
   "execution_count": 29,
   "id": "10c2ba05-457a-4d96-b6c4-d8597c580c43",
   "metadata": {
    "tags": []
   },
   "outputs": [
    {
     "name": "stdout",
     "output_type": "stream",
     "text": [
      "#################################\n",
      "DICTIONARY y_data\n",
      "{'num_words': None, 'filters': '', 'lower': False, 'split': ' ', 'char_level': True, 'oov_token': None, 'document_count': 133885, 'word_counts': '{\"C\": 787482, \"N\": 109306, \"O\": 181161, \"#\": 37027, \"=\": 106335, \"(\": 126532, \")\": 126532, \"1\": 270020, \"c\": 59074, \"[\": 9918, \"n\": 30458, \"H\": 8247, \"]\": 9918, \"o\": 6836, \"3\": 34756, \"+\": 1705, \"-\": 1808, \"2\": 121675, \"F\": 3314, \"4\": 5186, \"5\": 242}', 'word_docs': '{\"C\": 131656, \"N\": 74300, \"O\": 111215, \"#\": 32432, \"=\": 76005, \")\": 92249, \"(\": 92249, \"1\": 119887, \"]\": 7941, \"H\": 7941, \"n\": 16002, \"[\": 7941, \"c\": 17698, \"o\": 6546, \"3\": 17627, \"+\": 1705, \"-\": 1808, \"2\": 60295, \"F\": 2163, \"4\": 2593, \"5\": 121}', 'index_docs': '{\"1\": 131656, \"7\": 74300, \"3\": 111215, \"10\": 32432, \"8\": 76005, \"5\": 92249, \"4\": 92249, \"2\": 119887, \"14\": 7941, \"15\": 7941, \"12\": 16002, \"13\": 7941, \"9\": 17698, \"16\": 6546, \"11\": 17627, \"20\": 1705, \"19\": 1808, \"6\": 60295, \"18\": 2163, \"17\": 2593, \"21\": 121}', 'index_word': '{\"1\": \"C\", \"2\": \"1\", \"3\": \"O\", \"4\": \"(\", \"5\": \")\", \"6\": \"2\", \"7\": \"N\", \"8\": \"=\", \"9\": \"c\", \"10\": \"#\", \"11\": \"3\", \"12\": \"n\", \"13\": \"[\", \"14\": \"]\", \"15\": \"H\", \"16\": \"o\", \"17\": \"4\", \"18\": \"F\", \"19\": \"-\", \"20\": \"+\", \"21\": \"5\"}', 'word_index': '{\"C\": 1, \"1\": 2, \"O\": 3, \"(\": 4, \")\": 5, \"2\": 6, \"N\": 7, \"=\": 8, \"c\": 9, \"#\": 10, \"3\": 11, \"n\": 12, \"[\": 13, \"]\": 14, \"H\": 15, \"o\": 16, \"4\": 17, \"F\": 18, \"-\": 19, \"+\": 20, \"5\": 21}'}\n",
      "Length dictionary:  12\n"
     ]
    },
    {
     "data": {
      "text/plain": [
       "22"
      ]
     },
     "execution_count": 29,
     "metadata": {},
     "output_type": "execute_result"
    }
   ],
   "source": [
    "print (\"#################################\")\n",
    "print (\"DICTIONARY y_data\")\n",
    "dictt=tokenizer_X.get_config()\n",
    "print (dictt)\n",
    "print (\"Length dictionary: \", len (dictt) )\n",
    "num_words = len(tokenizer_X.word_index) + 1\n",
    "num_words"
   ]
  },
  {
   "cell_type": "code",
   "execution_count": 30,
   "id": "94d19c52-22f2-4421-9f19-e5bf3ee9514b",
   "metadata": {
    "tags": []
   },
   "outputs": [],
   "source": [
    "X_data_tokenized_reversed=reverse_tokenize (tokenizer_X, X_data_tokenized)"
   ]
  },
  {
   "cell_type": "code",
   "execution_count": 31,
   "id": "10540db1-90f0-4ebd-b3a7-f70c36da92fb",
   "metadata": {
    "tags": []
   },
   "outputs": [
    {
     "data": {
      "text/plain": [
       "(0      C\n",
       " 1      N\n",
       " 2      O\n",
       " 3    C#C\n",
       " 4    C#N\n",
       " 5    C=O\n",
       " Name: smiles, dtype: object,\n",
       " array([[ 1,  0,  0,  0,  0,  0,  0,  0,  0,  0,  0,  0,  0,  0,  0,  0,\n",
       "          0,  0,  0,  0,  0,  0,  0,  0,  0,  0,  0,  0,  0,  0,  0,  0],\n",
       "        [ 7,  0,  0,  0,  0,  0,  0,  0,  0,  0,  0,  0,  0,  0,  0,  0,\n",
       "          0,  0,  0,  0,  0,  0,  0,  0,  0,  0,  0,  0,  0,  0,  0,  0],\n",
       "        [ 3,  0,  0,  0,  0,  0,  0,  0,  0,  0,  0,  0,  0,  0,  0,  0,\n",
       "          0,  0,  0,  0,  0,  0,  0,  0,  0,  0,  0,  0,  0,  0,  0,  0],\n",
       "        [ 1, 10,  1,  0,  0,  0,  0,  0,  0,  0,  0,  0,  0,  0,  0,  0,\n",
       "          0,  0,  0,  0,  0,  0,  0,  0,  0,  0,  0,  0,  0,  0,  0,  0],\n",
       "        [ 1, 10,  7,  0,  0,  0,  0,  0,  0,  0,  0,  0,  0,  0,  0,  0,\n",
       "          0,  0,  0,  0,  0,  0,  0,  0,  0,  0,  0,  0,  0,  0,  0,  0],\n",
       "        [ 1,  8,  3,  0,  0,  0,  0,  0,  0,  0,  0,  0,  0,  0,  0,  0,\n",
       "          0,  0,  0,  0,  0,  0,  0,  0,  0,  0,  0,  0,  0,  0,  0,  0]],\n",
       "       dtype=int32),\n",
       " ['C', 'N', 'O', 'C#C', 'C#N', 'C=O'])"
      ]
     },
     "execution_count": 31,
     "metadata": {},
     "output_type": "execute_result"
    }
   ],
   "source": [
    "X_data [:6], X_data_tokenized[:6], X_data_tokenized_reversed[:6]"
   ]
  },
  {
   "cell_type": "markdown",
   "id": "7082aeba-a32b-496a-af5a-a97e47b3a51a",
   "metadata": {},
   "source": [
    "#### Normalize SMILES tokens and prepare one-hot encoding"
   ]
  },
  {
   "cell_type": "code",
   "execution_count": 32,
   "id": "54be2e84-425d-4f57-9241-32406bfe0606",
   "metadata": {
    "tags": []
   },
   "outputs": [
    {
     "data": {
      "text/plain": [
       "21"
      ]
     },
     "execution_count": 32,
     "metadata": {},
     "output_type": "execute_result"
    }
   ],
   "source": [
    "#get max token number in training set\n",
    "X_norm_factor=X_data_tokenized.max()\n",
    "X_norm_factor"
   ]
  },
  {
   "cell_type": "code",
   "execution_count": 33,
   "id": "3f694d26-9c31-43a7-92c5-c3d44e455d00",
   "metadata": {
    "tags": []
   },
   "outputs": [
    {
     "name": "stdout",
     "output_type": "stream",
     "text": [
      "21 0.0 1.0\n"
     ]
    }
   ],
   "source": [
    "X_data_tokenized_norm=X_data_tokenized/X_norm_factor\n",
    "print (X_norm_factor,  X_data_tokenized_norm.min(), X_data_tokenized_norm.max(),)"
   ]
  },
  {
   "cell_type": "code",
   "execution_count": 34,
   "id": "3efa4526-21dc-4c0e-b751-956c0d747e5f",
   "metadata": {
    "tags": []
   },
   "outputs": [
    {
     "data": {
      "text/plain": [
       "(133885, 32)"
      ]
     },
     "execution_count": 34,
     "metadata": {},
     "output_type": "execute_result"
    }
   ],
   "source": [
    "X_data_tokenized.shape"
   ]
  },
  {
   "cell_type": "code",
   "execution_count": 35,
   "id": "ec812691-d657-4595-a0a8-08cdbc7ad971",
   "metadata": {
    "tags": []
   },
   "outputs": [
    {
     "data": {
      "text/plain": [
       "torch.Size([32])"
      ]
     },
     "execution_count": 35,
     "metadata": {},
     "output_type": "execute_result"
    }
   ],
   "source": [
    "#make X_data_tokenized into tensor (not used in this code, but for transformer)\n",
    "X_data_tokenized=torch.Tensor (X_data_tokenized).long () \n",
    "X_data_tokenized[0,:].shape"
   ]
  },
  {
   "cell_type": "code",
   "execution_count": 36,
   "id": "0931f37a-b352-40eb-b7db-50ad02104cd2",
   "metadata": {
    "tags": []
   },
   "outputs": [],
   "source": [
    "X_data_tokenized_onehot=F.one_hot ( X_data_tokenized  ) \n",
    "X_data_tokenized_onehot[X_data_tokenized_onehot==0] = -1\n",
    "X_data_tokenized_onehot=X_data_tokenized_onehot.float()"
   ]
  },
  {
   "cell_type": "code",
   "execution_count": 37,
   "id": "81f3cb8d-5067-4b60-ac17-4e73d7e5be73",
   "metadata": {
    "tags": []
   },
   "outputs": [
    {
     "data": {
      "text/plain": [
       "torch.Size([133885, 32, 22])"
      ]
     },
     "execution_count": 37,
     "metadata": {},
     "output_type": "execute_result"
    }
   ],
   "source": [
    "X_data_tokenized_onehot.shape"
   ]
  },
  {
   "cell_type": "code",
   "execution_count": 38,
   "id": "064976cf-6f32-469b-9012-7bcd1998bd99",
   "metadata": {
    "tags": []
   },
   "outputs": [
    {
     "data": {
      "text/plain": [
       "torch.Size([133885, 32])"
      ]
     },
     "execution_count": 38,
     "metadata": {},
     "output_type": "execute_result"
    }
   ],
   "source": [
    "X_data_tokenized_onehot_reversed=torch.argmax(X_data_tokenized_onehot, dim=2)\n",
    "X_data_tokenized_onehot_reversed.shape"
   ]
  },
  {
   "cell_type": "code",
   "execution_count": 39,
   "id": "4d9f1d9f-088f-4f90-afe7-383e1bf5c654",
   "metadata": {
    "tags": []
   },
   "outputs": [
    {
     "data": {
      "text/plain": [
       "tensor([], size=(0, 2), dtype=torch.int64)"
      ]
     },
     "execution_count": 39,
     "metadata": {},
     "output_type": "execute_result"
    }
   ],
   "source": [
    "(X_data_tokenized_onehot_reversed-X_data_tokenized).nonzero() #the results should all be zero"
   ]
  },
  {
   "cell_type": "code",
   "execution_count": 40,
   "id": "446a56e9-0ef0-4f84-86b3-33790ecaf5da",
   "metadata": {
    "tags": []
   },
   "outputs": [
    {
     "name": "stdout",
     "output_type": "stream",
     "text": [
      "Shapes= torch.Size([133885, 32, 22]), (133885, 12)\n",
      "Shapes of training/test for X and y:\n",
      "torch.Size([120496, 32, 22])\n",
      "torch.Size([120496, 12])\n",
      "torch.Size([13389, 32, 22])\n",
      "torch.Size([13389, 12])\n",
      "Number of batches in training: 118\n"
     ]
    }
   ],
   "source": [
    "batch_size=1024\n",
    "train_loader,train_loader_noshuffle, test_loader= get_data_loaders (X_data_tokenized_onehot,  y_data ,  split=0.1, \n",
    "                                                                    batch_size_=batch_size)\n",
    "\n",
    "print (f\"Number of batches in training: {len (train_loader)}\")"
   ]
  },
  {
   "cell_type": "code",
   "execution_count": 41,
   "id": "133e2939-1723-4ea0-ab74-21960754a3ed",
   "metadata": {
    "tags": []
   },
   "outputs": [
    {
     "data": {
      "image/png": "[encoded data removed]",
      "text/plain": [
       "<Figure size 640x480 with 1 Axes>"
      ]
     },
     "metadata": {},
     "output_type": "display_data"
    }
   ],
   "source": [
    "fig_handle =sns.histplot(np.array(X_data_tokenized).flatten(), bins=12,   log_scale=(False, True) )\n",
    "fig = fig_handle.get_figure()\n",
    "fig_handle.set_xlim(0, X_norm_factor)\n",
    "#fig_handle.set_ylim(0, 100000)\n",
    "#plt.xticks(range (1,21))\n",
    "plt.show()"
   ]
  },
  {
   "cell_type": "markdown",
   "id": "97105085-3c76-436c-9555-d14383f2052e",
   "metadata": {},
   "source": [
    "### Define forward diffusion model (used to validate predictions)"
   ]
  },
  {
   "cell_type": "code",
   "execution_count": 42,
   "id": "31fc53ed-e747-4840-b4f6-29157b5f67a3",
   "metadata": {
    "tags": []
   },
   "outputs": [],
   "source": [
    "from  MoleculeDiffusion import QMDiffusionForward \n",
    "from  MoleculeDiffusion import predict_properties_from_SMILES, count_parameters"
   ]
  },
  {
   "cell_type": "code",
   "execution_count": 43,
   "id": "cd2bf294-ca82-4412-9de2-1aecde8f265c",
   "metadata": {
    "tags": []
   },
   "outputs": [
    {
     "name": "stdout",
     "output_type": "stream",
     "text": [
      "[<class 'MoleculeDiffusion.diffusion.VDiffusion'>, <class 'MoleculeDiffusion.diffusion.KDiffusion'>, <class 'MoleculeDiffusion.diffusion.VKDiffusion'>, <class 'MoleculeDiffusion.diffusion.KDiffusion_mod'>]\n",
      "----------------------------------------------------------------------------------------------------\n",
      "Total parameters:  18322684  trainable parameters:  18322684\n",
      "----------------------------------------------------------------------------------------------------\n",
      "Loaded model.\n"
     ]
    }
   ],
   "source": [
    "pred_dim=1\n",
    "max_length_forward=64\n",
    "context_embedding_max_length=y_data.shape[1]\n",
    "\n",
    "model_forward =QMDiffusionForward( \n",
    "                 max_length=max_length_forward,#context_embedding_max_length,#length of predicted data\n",
    "                 pred_dim=pred_dim,\n",
    "                 channels=64,\n",
    "                 unet_type='cfg', #'base', #'cfg',\n",
    "                 context_embedding_max_length=max_length_forward,  #length of conditioning \n",
    "                 pos_emb_fourier=True,\n",
    "                 pos_emb_fourier_add=False,\n",
    "                 text_embed_dim = 64,\n",
    "                 embed_dim_position=64,\n",
    "                 )  .to(device)  \n",
    "\n",
    "count_parameters (model_forward)\n",
    " \n",
    "fname=f'./diffusion_forward/statedict_save-model-epoch_78.pt' #lowest loss mode\n",
    "model_forward.load_state_dict(torch.load(fname))\n",
    "print (\"Loaded model.\")"
   ]
  },
  {
   "cell_type": "markdown",
   "id": "ebcb5b2c-e732-4ee7-9863-7b84e16de6c4",
   "metadata": {},
   "source": [
    "### Test inference of forward model"
   ]
  },
  {
   "cell_type": "code",
   "execution_count": 44,
   "id": "ba2758ed-a89a-4574-a489-f5c642752578",
   "metadata": {
    "tags": []
   },
   "outputs": [
    {
     "data": {
      "image/png": "[encoded data removed]",
      "text/plain": [
       "<Figure size 640x480 with 1 Axes>"
      ]
     },
     "metadata": {},
     "output_type": "display_data"
    }
   ],
   "source": [
    "res, _=predict_properties_from_SMILES (model_forward,device, SMILES=['C',\n",
    "                                                                     'CCC',\n",
    "                                                                     'CCCCCC',\n",
    "                                                                     'CCCCCCCCC'], \n",
    "                X_norm_factor=X_norm_factor,\n",
    "                scaler=scaler,\n",
    "                tokenizer_X=tokenizer_X,\n",
    "                 \n",
    "                cond_scales=[1.], #list of cond scales - each sampled...\n",
    "                \n",
    "                timesteps=100,\n",
    "                flag=0, \n",
    "                clamp=False,\n",
    "                 \n",
    "                draw_molecules=False,\n",
    "                draw_all=False,\n",
    "                mols_per_row=8,max_length = 64,\n",
    "                                       \n",
    "                context_embedding_max_length=12, \n",
    "               )\n",
    "\n",
    "plt.plot (res[:,:])\n",
    "plt.show()"
   ]
  },
  {
   "cell_type": "markdown",
   "id": "03f7970f-4816-4e0f-b3a1-b378faaed87b",
   "metadata": {},
   "source": [
    "### Set up generative diffusion model"
   ]
  },
  {
   "cell_type": "code",
   "execution_count": 45,
   "id": "1bd8c500-4e1b-40bc-9aef-e32b35fd4600",
   "metadata": {
    "tags": []
   },
   "outputs": [],
   "source": [
    "from  MoleculeDiffusion import  QMDiffusion, sample_loop_generative, train_loop_generative\n",
    "\n",
    "prefix='./QM_generative_diffusion_inverse/'\n",
    "if not os.path.exists(prefix):\n",
    "        os.mkdir (prefix)"
   ]
  },
  {
   "cell_type": "code",
   "execution_count": 46,
   "id": "2e0adf9e-b6a1-4832-b29a-9b0eca96d2f3",
   "metadata": {
    "tags": []
   },
   "outputs": [
    {
     "data": {
      "text/plain": [
       "(32, torch.Size([133885, 32, 22]), 12, 118)"
      ]
     },
     "execution_count": 46,
     "metadata": {},
     "output_type": "execute_result"
    }
   ],
   "source": [
    "max_length, X_data_tokenized_onehot.shape, context_embedding_max_length, len (train_loader)"
   ]
  },
  {
   "cell_type": "code",
   "execution_count": 49,
   "id": "e25d2d87-6888-4822-8a83-cd0c49b15da9",
   "metadata": {
    "tags": []
   },
   "outputs": [],
   "source": [
    "train_generative = False #False"
   ]
  },
  {
   "cell_type": "code",
   "execution_count": 50,
   "id": "525649a1-8339-43ef-9532-0a5b2463cd22",
   "metadata": {
    "tags": []
   },
   "outputs": [
    {
     "name": "stdout",
     "output_type": "stream",
     "text": [
      "22\n",
      "Using unet type:  cfg\n",
      "[<class 'MoleculeDiffusion.diffusion.VDiffusion'>, <class 'MoleculeDiffusion.diffusion.KDiffusion'>, <class 'MoleculeDiffusion.diffusion.VKDiffusion'>, <class 'MoleculeDiffusion.diffusion.KDiffusion_mod'>]\n",
      "----------------------------------------------------------------------------------------------------\n",
      "Total parameters:  90965554  trainable parameters:  90965554\n",
      "----------------------------------------------------------------------------------------------------\n"
     ]
    }
   ],
   "source": [
    "max_length_generative = 32\n",
    "\n",
    "pred_dim=X_data_tokenized_onehot.shape[2]\n",
    "print (pred_dim)\n",
    " \n",
    "context_embedding_max_length=y_data.shape[1]\n",
    "model =QMDiffusion( \n",
    "                 max_length=max_length_generative,#length of predicted data\n",
    "                 pred_dim=pred_dim,\n",
    "                 channels=128,\n",
    "                 unet_type='cfg', #'base', #'cfg',\n",
    "                 context_embedding_max_length=context_embedding_max_length,#length of conditioning \n",
    "                 pos_emb_fourier=True,\n",
    "                 pos_emb_fourier_add=False,\n",
    "                 text_embed_dim = 64,\n",
    "                 embed_dim_position=64,\n",
    "            )  .to(device)  \n",
    "\n",
    "count_parameters (model)\n",
    "\n",
    "if train_generative:\n",
    " \n",
    "    optimizer = optim.Adam(model.parameters() , lr=0.0002 )\n",
    "    \n",
    "else:\n",
    "    \n",
    "    fname=f'./QM_generative_diffusion_inverse/statedict_save-model-epoch_4851.pt' #lowest loss mode\n",
    "    model.load_state_dict(torch.load(fname))\n",
    "    print (\"Model loaded.\")"
   ]
  },
  {
   "cell_type": "code",
   "execution_count": 51,
   "id": "d1f94c65-7c9a-4856-a5c2-130b26df269d",
   "metadata": {
    "tags": []
   },
   "outputs": [
    {
     "data": {
      "text/plain": [
       "21"
      ]
     },
     "execution_count": 51,
     "metadata": {},
     "output_type": "execute_result"
    }
   ],
   "source": [
    "X_norm_factor"
   ]
  },
  {
   "cell_type": "code",
   "execution_count": 52,
   "id": "31064e61-7385-489b-b411-2bea470595f0",
   "metadata": {
    "tags": []
   },
   "outputs": [
    {
     "data": {
      "text/plain": [
       "device(type='cuda')"
      ]
     },
     "execution_count": 52,
     "metadata": {},
     "output_type": "execute_result"
    }
   ],
   "source": [
    "device"
   ]
  },
  {
   "cell_type": "code",
   "execution_count": null,
   "id": "02c352d1-e1ea-489e-8fd8-5aba93fd362c",
   "metadata": {
    "tags": []
   },
   "outputs": [],
   "source": [
    "if train_generative:\n",
    "    loss_list=[]\n",
    "    loss_list=train_loop_generative (model,\n",
    "                train_loader,test_loader,model_forward=model_forward,\n",
    "                optimizer=optimizer,\n",
    "                print_every=1000,\n",
    "                epochs= 3000000, #stop early \n",
    "                start_ep=0,\n",
    "                start_step=0,\n",
    "                print_loss=1*len (train_loader),\n",
    "                cond_scales=[1.],\n",
    "                timesteps=100,\n",
    "                clamp=False,\n",
    "                save_model=True,\n",
    "                show_jointplot=True,\n",
    "                num_samples=2,\n",
    "                ALL_SMILES=ALL_SMILES,\n",
    "                scaler=scaler,\n",
    "                X_norm_factor=X_norm_factor, #need for forward \n",
    "                prefix=prefix,\n",
    "                device=device,\n",
    "                loss_list=loss_list,\n",
    "                tokenizer_X=tokenizer_X,\n",
    "               )"
   ]
  },
  {
   "cell_type": "code",
   "execution_count": null,
   "id": "ed71e75a-d3da-4227-8851-87db899d20cf",
   "metadata": {
    "tags": []
   },
   "outputs": [],
   "source": [
    "sample_loop_generative (model,device,\n",
    "                test_loader, \n",
    "                tokenizer_X=tokenizer_X,\n",
    "                cond_scales=[1,], #list of cond scales - each sampled...\n",
    "                num_samples=4, #how many samples produced every time tested.....\n",
    "                timesteps=100,show_jointplot=True ,\n",
    "                draw_molecules=True, \n",
    "                ALL_SMILES=ALL_SMILES,\n",
    "                model_forward=model_forward,\n",
    "                scaler=scaler,\n",
    "                X_norm_factor=X_norm_factor, #need for forward \n",
    "                prefix=prefix,\n",
    "                )"
   ]
  },
  {
   "cell_type": "code",
   "execution_count": null,
   "id": "ce5bd694-0c05-4a28-bb56-6e75ef9230cc",
   "metadata": {},
   "outputs": [],
   "source": []
  },
  {
   "cell_type": "code",
   "execution_count": null,
   "id": "d124c47e-8988-4a53-ad9d-dceb7e08c210",
   "metadata": {},
   "outputs": [],
   "source": []
  }
 ],
 "metadata": {
  "environment": {
   "kernel": "python3",
   "name": "common-cu110.m100",
   "type": "gcloud",
   "uri": "gcr.io/deeplearning-platform-release/base-cu110:m100"
  },
  "kernelspec": {
   "display_name": "Python 3 (ipykernel)",
   "language": "python",
   "name": "python3"
  },
  "language_info": {
   "codemirror_mode": {
    "name": "ipython",
    "version": 3
   },
   "file_extension": ".py",
   "mimetype": "text/x-python",
   "name": "python",
   "nbconvert_exporter": "python",
   "pygments_lexer": "ipython3",
   "version": "3.9.16"
  }
 },
 "nbformat": 4,
 "nbformat_minor": 5
}
